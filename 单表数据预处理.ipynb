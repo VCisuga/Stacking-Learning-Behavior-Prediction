{
 "cells": [
  {
   "cell_type": "markdown",
   "id": "1df465b8",
   "metadata": {},
   "source": [
    "# 数据简介\n",
    "\n",
    "数据是由超星平台提供\n",
    "\n",
    "共39个表格，包括了各数据包字段说明、学生信息、课程信息、在线时长、课堂学生操作流水表、成绩表等数据\n",
    "\n",
    "每个表基本只涵盖一类信息，所以最后我们需要将预处理后的信息汇总\n",
    "\n",
    "因为数据量大，我们针对每个表单独进行删除或补充异常值、补充缺省值、删除无用数据，并将每个预处理好的数据重新保存为.CSV文件格式的数据表，避免仿佛处理浪费算力，将39表格的内容筛选汇总成9个表格"
   ]
  },
  {
   "cell_type": "markdown",
   "id": "77588242",
   "metadata": {},
   "source": [
    "## 观察数据的函数"
   ]
  },
  {
   "cell_type": "code",
   "execution_count": 1,
   "id": "abef119d",
   "metadata": {},
   "outputs": [],
   "source": [
    "# 判断数据是否一致\n",
    "def function(a, b):\n",
    "    if a == b:\n",
    "        # 一致输出1\n",
    "        return 1\n",
    "    else:\n",
    "        # 不一致输出0\n",
    "        return 0\n",
    "\n",
    "\n",
    "# 判断insert_time create_time last_modify_time 时间列是否一致\n",
    "# da-临时储存数据的变量\n",
    "def ifon(df):\n",
    "    da = df[['insert_time', 'create_time', 'last_modify_time']]\n",
    "    da['bool1'] = da.apply(lambda x : function(x['insert_time'], x['create_time']), axis = 1)\n",
    "    da['bool2'] = da.apply(lambda x : function(x['create_time'], x['create_time']), axis = 1)\n",
    "    print(len(da[da['bool1'] == 0]), len(da[da['bool2'] == 0]))\n",
    "    \n",
    "# 展示各列具体信息\n",
    "def data_col(data):\n",
    "    for k in data.columns:\n",
    "        print(k +'   '+ str(len(data[k].unique())))"
   ]
  },
  {
   "cell_type": "markdown",
   "id": "a0909bb8",
   "metadata": {},
   "source": [
    "## 数据预处理的函数"
   ]
  },
  {
   "cell_type": "code",
   "execution_count": 2,
   "id": "211faf40",
   "metadata": {},
   "outputs": [],
   "source": [
    "import os\n",
    "import pandas as pd\n",
    "from datetime import *\n",
    "\n",
    "# 判断 personid 是否是学生id\n",
    "def ifstud(data, data_stu, name1, name2, per = [], tea = []):\n",
    "    '''\n",
    "    data: 需要判断的数据集\n",
    "    data_stu: 判断依据的数据集(学生名单)\n",
    "    name1: 判断的列名-data-personid\n",
    "    name2: 对比的列名-data_stu-personid\n",
    "    return: per-存放学生的id-列表、tea-存放老师的id-列表\n",
    "    '''\n",
    "    for i in data[name1].unique():\n",
    "        if i in data_stu[name2].unique():\n",
    "            per.append(i)\n",
    "        else:\n",
    "            tea.append(i)\n",
    "    return per, tea\n",
    "\n",
    "# 删除非学生操作\n",
    "def dropdata(data, inds):\n",
    "    '''\n",
    "    data: 需要处理的数据集\n",
    "    inds: 需要删除的数据行的索引列表\n",
    "    return: data-处理完毕的数据集\n",
    "    '''\n",
    "    data = data.drop(inds)\n",
    "    # 重新设置索引 从0开始\n",
    "    data.reset_index(drop = True, inplace = True)\n",
    "    return data\n",
    "\n",
    "def dropdata_(data, col, perid):\n",
    "    '''\n",
    "    data: 需要处理的数据集\n",
    "    col: 匹配删除条件的列名(如:personid、role等)\n",
    "    perid: 删除的条件(如:老师的personid列表)\n",
    "    return: data-处理完毕的数据集\n",
    "    '''\n",
    "    if type(perid) == type(1):\n",
    "        data = data.drop(data[data[col] == perid].index)\n",
    "    elif len(perid) == 1:\n",
    "        data = data.drop(data[data[col] == perid].index)\n",
    "    else:\n",
    "        for i in perid:\n",
    "            data = data.drop(data[data[col] == i].index)\n",
    "    # 重新设置索引 从0开始\n",
    "    data.reset_index(drop = True, inplace = True)\n",
    "    return data\n",
    "\n",
    "# 计算时长\n",
    "def get_hour(date1, date2):\n",
    "    '''\n",
    "    date1: 开始时间-str-datetime\n",
    "    date2: 结束时间-str-datetime\n",
    "    return: hour-时长(s)/0\n",
    "    '''\n",
    "    try:\n",
    "        date1 = datetime.strptime(date1, \"%Y-%m-%d %H:%M\")\n",
    "        date2 = datetime.strptime(date2, \"%Y-%m-%d %H:%M\")\n",
    "        date = date2 - date1\n",
    "        hour = date.seconds/3600\n",
    "        return hour\n",
    "    except:\n",
    "        return 0\n",
    "    \n",
    "# 字符串转时间\n",
    "def cgdatetime(df, name):\n",
    "    '''\n",
    "    df: 数据集名\n",
    "    name: 列名\n",
    "    return: df[name]\n",
    "    '''\n",
    "    df[name] = pd.to_datetime(df[name], format = '%Y-%m-%d %H:%M')\n",
    "    return df[name]\n",
    "    \n",
    "# 数据去空去重\n",
    "def df_clear(df):\n",
    "    '''\n",
    "    df: 数据集名\n",
    "    return: 去空去重后的数据集\n",
    "    '''\n",
    "    df = df.drop_duplicates(inplace = False)\n",
    "    df = df.dropna(axis = 0, how = 'all', inplace = False)\n",
    "    # 重新设置索引 从0开始\n",
    "    df.reset_index(drop = True, inplace = True)\n",
    "    return df\n",
    "\n",
    "# 数据清洗\n",
    "# 删除每个字符串左侧、右侧中空格（包括换行符）\n",
    "def data_str_clear(data):\n",
    "    '''\n",
    "    data: 数据集名\n",
    "    return: 处理好的数据集\n",
    "    '''\n",
    "    for i in data.columns:\n",
    "        try:\n",
    "            data[i] = data[i].str.strip()\n",
    "        except:\n",
    "            pass\n",
    "    return data\n",
    "\n",
    "    \n",
    "# 遍历一次性获得某个文件夹下的所有指定的文件路径\n",
    "def FilesPath(path):\n",
    "    '''\n",
    "    path: 目录文件夹地址\n",
    "    return: filePaths-文件全路径-列表\n",
    "    '''\n",
    "    filePaths = [] # 存储目录下的所有文件名，含路径\n",
    "    for root,dirs,files in os.walk(path):\n",
    "        for file in files:\n",
    "            filePaths.append(os.path.join(root, file))\n",
    "    return filePaths\n",
    "\n",
    "\n",
    "def concatcsv(path):\n",
    "    '''\n",
    "    path: 需要遍历的文件夹路径\n",
    "    '''\n",
    "    # 调用FilesPath函数获得文件路径\n",
    "    log_file = FilesPath(path)\n",
    "    data_log = pd.DataFrame()\n",
    "    for file_path in (log_file):\n",
    "        dlog = pd.read_csv(file_path, encoding = 'utf-8')\n",
    "        data_log = pd.concat([data_log, dlog])\n",
    "    return data_log\n",
    "\n",
    "\n",
    "# 单个文件的读取数据\n",
    "def getdf(path, filename):\n",
    "    '''\n",
    "    path: 文件路径-如: 'data/t_stat_activity_log.xls'\n",
    "    filename: 文件名-文件类型(只支持execl和csv文件)\n",
    "    return: df-数据集\n",
    "    '''\n",
    "    if filename[-1] == 'v':\n",
    "        df = pd.read_csv(path + filename, encoding = 'utf-8')\n",
    "    else:\n",
    "        df = pd.read_excel(path + filename)\n",
    "    print(df.shape)\n",
    "    return df\n",
    "\n",
    "# 选取列保留\n",
    "def getdata(df, colname, newcolname):\n",
    "    '''\n",
    "    df: 源数据集\n",
    "    colname: 保留的列名列表\n",
    "    newcolname: 新列名\n",
    "    return: data-新数据集\n",
    "    '''\n",
    "    try:\n",
    "        data = df[colname]\n",
    "        data.columns = newcolname\n",
    "        print(data.shape)\n",
    "        return data\n",
    "    except:\n",
    "        print('列名错误')\n",
    "    \n",
    "\n",
    "# 判断是否有删除记录\n",
    "def IFisDeleted(data):\n",
    "    '''\n",
    "    data: 数据集\n",
    "    return: data-删除记录后的数据集\n",
    "    '''\n",
    "    if len(data['isDeleted'].unique()) > 1:\n",
    "        i1 = data[data['isDeleted'] == 1][['personid', 'courseid', 'clazzid']].personid\n",
    "        i2 = data[data['isDeleted'] == 1][['personid', 'courseid', 'clazzid']].courseid\n",
    "        i3 = data[data['isDeleted'] == 1][['personid', 'courseid', 'clazzid']].clazzid\n",
    "        data = data.drop(data[(data.personid == i1) & (data.courseid == i2) & (data.clazzid == i3)].index)\n",
    "        # 重新设置索引 从0开始\n",
    "        data.reset_index(drop = True, inplace = True)\n",
    "    return data\n",
    "\n",
    "def querydate(df, start, end, colname, newcolname):\n",
    "    '''\n",
    "    df: 待处理的数据集\n",
    "    colname: 保留的列名列表\n",
    "    newcolname: 新列名\n",
    "    return: data\n",
    "    '''\n",
    "    data = df.loc[(df.last_modify_time >= start) & (df.last_modify_time <= end), colname]\n",
    "    data.columns = newcolname\n",
    "    # 重新设置索引 从0开始\n",
    "    data.reset_index(drop = True, inplace = True)\n",
    "#     print(data.shape)\n",
    "    return data\n",
    "\n",
    "def droptead(data, col, teaid, dropteaid = []):\n",
    "    '''\n",
    "    data: 数据集\n",
    "    col: 条件列名(如:personid、用户id)\n",
    "    teaid: 老师的用户id列表\n",
    "    return: data\n",
    "    '''\n",
    "    for i in data.groupby(col):\n",
    "        if i[0] in teaid:\n",
    "            dropteaid += data[data[col] == i[0]].index.to_list()\n",
    "        else:\n",
    "            continue\n",
    "        \n",
    "    if len(dropteaid) != 0:\n",
    "        data = dropdata(data, dropteaid)\n",
    "        # 重新设置索引 从0开始\n",
    "        data.reset_index(drop = True, inplace = True)\n",
    "    else:\n",
    "        pass\n",
    "    return data"
   ]
  },
  {
   "cell_type": "code",
   "execution_count": 3,
   "id": "b8c20f95",
   "metadata": {},
   "outputs": [
    {
     "name": "stdout",
     "output_type": "stream",
     "text": [
      "{'AttendLog': '签到', 'VoteLog': '投票', 'SurveyLog': '问卷', 'WorkLog': '测验', 'ChooseSomeoneLog': '选人', 'PreampAnswerLog': '抢答', 'MarkLog': '评分', 'TaskLog': '分组', 'askLog': '分组', 'LiveLog': '课堂直播', 'CourseNoticeLog': '课程通知', 'FeedbackLog': '群聊', 'SyncClassroomLog': '同步课堂', 'DiscussLog': '讨论', 'TimerLog': '计时器活动', 'ResourceActivitLog': '资源型活动', 'OnlineCourseLog': '在线课堂', 'TTencentMeetingLog': '在线课堂', 'OtherLog': '其他活动'}\n"
     ]
    }
   ],
   "source": [
    "# 路径\n",
    "path = 'data/'\n",
    "\n",
    "# 日期范围\n",
    "dates = ['2022-02-01', '2022-08-30']\n",
    "\n",
    "# dtype对应的活动类型\n",
    "acts = {'AttendLog':'签到', 'VoteLog':'投票', 'SurveyLog':'问卷', 'WorkLog':'测验', 'ChooseSomeoneLog':'选人', 'PreampAnswerLog':'抢答', 'MarkLog':'评分', 'TaskLog':'分组', 'askLog':'分组', 'LiveLog':'课堂直播', 'CourseNoticeLog':'课程通知', 'FeedbackLog':'群聊', 'SyncClassroomLog':'同步课堂', 'DiscussLog':'讨论', 'TimerLog':'计时器活动', 'ResourceActivitLog':'资源型活动', 'OnlineCourseLog':'在线课堂', 'TTencentMeetingLog':'在线课堂', 'OtherLog':'其他活动'}\n",
    "print(acts)"
   ]
  },
  {
   "cell_type": "code",
   "execution_count": 4,
   "id": "04dde3b8",
   "metadata": {},
   "outputs": [
    {
     "name": "stdout",
     "output_type": "stream",
     "text": [
      "(1513, 10)\n",
      "(40581, 9)\n",
      "6429\n",
      "7106\n",
      "(1485, 10) (34152, 9)\n"
     ]
    }
   ],
   "source": [
    "# 存放老师的personid\n",
    "df_pers = getdf(path, 't_stat_person.xls')\n",
    "df_perb = getdf(path, 'b1_t_stat_person.xlsx')\n",
    "\n",
    "# 老师的用户id\n",
    "perids = df_pers[df_pers['role'] == 1].personid.to_list()\n",
    "peridb = df_perb[(df_perb['role'] == 0) | (df_perb['role'] == 2)].personid.to_list()\n",
    "print(len(peridb))\n",
    "\n",
    "df_pers = df_pers[df_pers['role'] == 3]\n",
    "df_perb = df_perb[df_perb['role'] == 3]\n",
    "peridb += df_perb[df_perb.user_name.str.contains(r'[0-9a-zA-Z]') == True].personid.to_list()\n",
    "print(len(peridb))\n",
    "print(df_pers.shape, df_perb.shape)"
   ]
  },
  {
   "cell_type": "markdown",
   "id": "95cb40a7",
   "metadata": {},
   "source": [
    "## 1. b1_t_stat_clazz --> 班级表"
   ]
  },
  {
   "cell_type": "code",
   "execution_count": 5,
   "id": "42b5e02d",
   "metadata": {},
   "outputs": [
    {
     "name": "stdout",
     "output_type": "stream",
     "text": [
      "(24280, 13)\n",
      "(12937, 2)\n",
      "(12937, 2)\n"
     ]
    },
    {
     "data": {
      "text/html": [
       "<div>\n",
       "<style scoped>\n",
       "    .dataframe tbody tr th:only-of-type {\n",
       "        vertical-align: middle;\n",
       "    }\n",
       "\n",
       "    .dataframe tbody tr th {\n",
       "        vertical-align: top;\n",
       "    }\n",
       "\n",
       "    .dataframe thead th {\n",
       "        text-align: right;\n",
       "    }\n",
       "</style>\n",
       "<table border=\"1\" class=\"dataframe\">\n",
       "  <thead>\n",
       "    <tr style=\"text-align: right;\">\n",
       "      <th></th>\n",
       "      <th>课程id</th>\n",
       "      <th>班级id</th>\n",
       "    </tr>\n",
       "  </thead>\n",
       "  <tbody>\n",
       "    <tr>\n",
       "      <th>0</th>\n",
       "      <td>1943082</td>\n",
       "      <td>5372193</td>\n",
       "    </tr>\n",
       "    <tr>\n",
       "      <th>1</th>\n",
       "      <td>1943082</td>\n",
       "      <td>5372194</td>\n",
       "    </tr>\n",
       "    <tr>\n",
       "      <th>2</th>\n",
       "      <td>1943083</td>\n",
       "      <td>5372195</td>\n",
       "    </tr>\n",
       "    <tr>\n",
       "      <th>3</th>\n",
       "      <td>1943081</td>\n",
       "      <td>5372196</td>\n",
       "    </tr>\n",
       "    <tr>\n",
       "      <th>4</th>\n",
       "      <td>1943084</td>\n",
       "      <td>5372197</td>\n",
       "    </tr>\n",
       "  </tbody>\n",
       "</table>\n",
       "</div>"
      ],
      "text/plain": [
       "      课程id     班级id\n",
       "0  1943082  5372193\n",
       "1  1943082  5372194\n",
       "2  1943083  5372195\n",
       "3  1943081  5372196\n",
       "4  1943084  5372197"
      ]
     },
     "execution_count": 5,
     "metadata": {},
     "output_type": "execute_result"
    }
   ],
   "source": [
    "# 雨课堂的数据\n",
    "df_cla = getdf(path, 'b1_t_stat_clazz.xlsx')\n",
    "# 筛选日期2022.2.1-2022.8.30的数据行\n",
    "data_cla = querydate(df_cla, dates[0], dates[1], ['courseid', 'clazzid'], ['课程id', '班级id'])\n",
    "print(data_cla.shape)\n",
    "\n",
    "# 数据清洗\n",
    "data_cla = data_str_clear(data_cla)\n",
    "print(data_cla.shape)\n",
    "data_cla.head()"
   ]
  },
  {
   "cell_type": "markdown",
   "id": "19dde858",
   "metadata": {},
   "source": [
    "## 2. 学生名单"
   ]
  },
  {
   "cell_type": "code",
   "execution_count": 6,
   "id": "cd673894",
   "metadata": {},
   "outputs": [
    {
     "name": "stdout",
     "output_type": "stream",
     "text": [
      "(1485, 4)\n",
      "(1485, 4)\n",
      "(32761, 3)\n"
     ]
    }
   ],
   "source": [
    "# 学习通的数据\n",
    "data_pers = getdata(df_pers, ['personid', *df_pers.columns[5:-2]], ['用户id', 'uid', '姓名', '学号'])\n",
    "data_pers = df_clear(data_pers)\n",
    "data_pers = data_pers[data_pers['姓名'].str.contains(r'[0-9a-zA-Z]') == False]\n",
    "data_pers = data_pers[data_pers['姓名'].str.contains(r'[\\u4e00-\\u9fa5]') == True]\n",
    "data_pers.reset_index(drop = True, inplace = True)\n",
    "print(data_pers.shape)\n",
    "\n",
    "# 雨课堂的数据\n",
    "df_perb = dropdata_(df_perb, 'role', [0, 2])\n",
    "\n",
    "# 筛选日期2022.2.1-2022.8.30的数据行\n",
    "data_perb = querydate(df_perb, dates[0], dates[1], [*df_perb.columns[4:6], 'personid'], ['姓名', '学号', '用户id'])\n",
    "data_perb = df_clear(data_perb)\n",
    "data_perb = data_perb[data_perb['姓名'].str.contains(r'[0-9a-zA-Z]') == False]\n",
    "data_perb = data_perb[data_perb['姓名'].str.contains(r'[\\u4e00-\\u9fa5]') == True]\n",
    "data_perb.reset_index(drop = True, inplace = True)\n",
    "print(data_perb.shape)\n",
    "# display(data_pers.head(), data_perb.head())"
   ]
  },
  {
   "cell_type": "code",
   "execution_count": 7,
   "id": "fd152922",
   "metadata": {},
   "outputs": [
    {
     "name": "stdout",
     "output_type": "stream",
     "text": [
      "(29414, 3)\n",
      "(29414, 2)\n"
     ]
    },
    {
     "data": {
      "text/html": [
       "<div>\n",
       "<style scoped>\n",
       "    .dataframe tbody tr th:only-of-type {\n",
       "        vertical-align: middle;\n",
       "    }\n",
       "\n",
       "    .dataframe tbody tr th {\n",
       "        vertical-align: top;\n",
       "    }\n",
       "\n",
       "    .dataframe thead th {\n",
       "        text-align: right;\n",
       "    }\n",
       "</style>\n",
       "<table border=\"1\" class=\"dataframe\">\n",
       "  <thead>\n",
       "    <tr style=\"text-align: right;\">\n",
       "      <th></th>\n",
       "      <th>uid</th>\n",
       "      <th>在线时长（秒）</th>\n",
       "    </tr>\n",
       "  </thead>\n",
       "  <tbody>\n",
       "    <tr>\n",
       "      <th>0</th>\n",
       "      <td>147025170</td>\n",
       "      <td>451753</td>\n",
       "    </tr>\n",
       "    <tr>\n",
       "      <th>1</th>\n",
       "      <td>55039653</td>\n",
       "      <td>32436</td>\n",
       "    </tr>\n",
       "    <tr>\n",
       "      <th>2</th>\n",
       "      <td>147022961</td>\n",
       "      <td>252447</td>\n",
       "    </tr>\n",
       "    <tr>\n",
       "      <th>3</th>\n",
       "      <td>103131505</td>\n",
       "      <td>314077</td>\n",
       "    </tr>\n",
       "    <tr>\n",
       "      <th>4</th>\n",
       "      <td>82832356</td>\n",
       "      <td>48804</td>\n",
       "    </tr>\n",
       "  </tbody>\n",
       "</table>\n",
       "</div>"
      ],
      "text/plain": [
       "         uid  在线时长（秒）\n",
       "0  147025170   451753\n",
       "1   55039653    32436\n",
       "2  147022961   252447\n",
       "3  103131505   314077\n",
       "4   82832356    48804"
      ]
     },
     "execution_count": 7,
     "metadata": {},
     "output_type": "execute_result"
    }
   ],
   "source": [
    "df_tm = getdf(path, 'duration.xlsx')\n",
    "data_tm = getdata(df_tm, ['用户id（uid）', '在线时长（秒）'], ['uid', '在线时长（秒）'])\n",
    "data_tm.head()"
   ]
  },
  {
   "cell_type": "code",
   "execution_count": 8,
   "id": "bfeee7f8",
   "metadata": {},
   "outputs": [],
   "source": [
    "for i in data_pers.uid.unique():\n",
    "    if i not in data_tm.uid.unique():\n",
    "        k = data_pers[data_pers.uid == i].index.values\n",
    "        data_pers.loc[data_pers.uid == i, 'uid'] = data_tm.loc[k[0], 'uid']"
   ]
  },
  {
   "cell_type": "code",
   "execution_count": 9,
   "id": "b4e89994",
   "metadata": {},
   "outputs": [
    {
     "name": "stdout",
     "output_type": "stream",
     "text": [
      "(1485, 4)\n"
     ]
    },
    {
     "data": {
      "text/html": [
       "<div>\n",
       "<style scoped>\n",
       "    .dataframe tbody tr th:only-of-type {\n",
       "        vertical-align: middle;\n",
       "    }\n",
       "\n",
       "    .dataframe tbody tr th {\n",
       "        vertical-align: top;\n",
       "    }\n",
       "\n",
       "    .dataframe thead th {\n",
       "        text-align: right;\n",
       "    }\n",
       "</style>\n",
       "<table border=\"1\" class=\"dataframe\">\n",
       "  <thead>\n",
       "    <tr style=\"text-align: right;\">\n",
       "      <th></th>\n",
       "      <th>用户id</th>\n",
       "      <th>姓名</th>\n",
       "      <th>学号</th>\n",
       "      <th>在线时长（秒）</th>\n",
       "    </tr>\n",
       "  </thead>\n",
       "  <tbody>\n",
       "    <tr>\n",
       "      <th>0</th>\n",
       "      <td>51465331</td>\n",
       "      <td>丁屹中</td>\n",
       "      <td>20161003949</td>\n",
       "      <td>7047</td>\n",
       "    </tr>\n",
       "    <tr>\n",
       "      <th>1</th>\n",
       "      <td>111944914</td>\n",
       "      <td>娜迪热·艾尔肯</td>\n",
       "      <td>20191004561</td>\n",
       "      <td>209251</td>\n",
       "    </tr>\n",
       "    <tr>\n",
       "      <th>2</th>\n",
       "      <td>111946468</td>\n",
       "      <td>何倩</td>\n",
       "      <td>20191004398</td>\n",
       "      <td>207885</td>\n",
       "    </tr>\n",
       "    <tr>\n",
       "      <th>3</th>\n",
       "      <td>147372556</td>\n",
       "      <td>熊锐</td>\n",
       "      <td>20201001447</td>\n",
       "      <td>334696</td>\n",
       "    </tr>\n",
       "    <tr>\n",
       "      <th>4</th>\n",
       "      <td>147374240</td>\n",
       "      <td>郑玉洁</td>\n",
       "      <td>20201001777</td>\n",
       "      <td>118632</td>\n",
       "    </tr>\n",
       "  </tbody>\n",
       "</table>\n",
       "</div>"
      ],
      "text/plain": [
       "        用户id       姓名           学号  在线时长（秒）\n",
       "0   51465331      丁屹中  20161003949     7047\n",
       "1  111944914  娜迪热·艾尔肯  20191004561   209251\n",
       "2  111946468       何倩  20191004398   207885\n",
       "3  147372556       熊锐  20201001447   334696\n",
       "4  147374240      郑玉洁  20201001777   118632"
      ]
     },
     "execution_count": 9,
     "metadata": {},
     "output_type": "execute_result"
    }
   ],
   "source": [
    "data_npers = pd.merge(data_pers, data_tm, on = 'uid')\n",
    "data_npers = data_npers[['用户id', '姓名', '学号', '在线时长（秒）']]\n",
    "data_npers.reset_index(drop = True, inplace = True)\n",
    "print(data_npers.shape)\n",
    "data_npers.head()"
   ]
  },
  {
   "cell_type": "code",
   "execution_count": 10,
   "id": "2843b9f5",
   "metadata": {},
   "outputs": [
    {
     "data": {
      "text/html": [
       "<div>\n",
       "<style scoped>\n",
       "    .dataframe tbody tr th:only-of-type {\n",
       "        vertical-align: middle;\n",
       "    }\n",
       "\n",
       "    .dataframe tbody tr th {\n",
       "        vertical-align: top;\n",
       "    }\n",
       "\n",
       "    .dataframe thead th {\n",
       "        text-align: right;\n",
       "    }\n",
       "</style>\n",
       "<table border=\"1\" class=\"dataframe\">\n",
       "  <thead>\n",
       "    <tr style=\"text-align: right;\">\n",
       "      <th></th>\n",
       "      <th>姓名</th>\n",
       "      <th>学号</th>\n",
       "      <th>用户id</th>\n",
       "      <th>在线时长（秒）</th>\n",
       "    </tr>\n",
       "  </thead>\n",
       "  <tbody>\n",
       "    <tr>\n",
       "      <th>0</th>\n",
       "      <td>丁磊</td>\n",
       "      <td>20201000062</td>\n",
       "      <td>28405756</td>\n",
       "      <td>451753</td>\n",
       "    </tr>\n",
       "    <tr>\n",
       "      <th>1</th>\n",
       "      <td>严佳旺</td>\n",
       "      <td>20201000327</td>\n",
       "      <td>28405787</td>\n",
       "      <td>32436</td>\n",
       "    </tr>\n",
       "    <tr>\n",
       "      <th>2</th>\n",
       "      <td>付少坤</td>\n",
       "      <td>20201004172</td>\n",
       "      <td>28405855</td>\n",
       "      <td>252447</td>\n",
       "    </tr>\n",
       "    <tr>\n",
       "      <th>3</th>\n",
       "      <td>任勇浩</td>\n",
       "      <td>20201002222</td>\n",
       "      <td>28405870</td>\n",
       "      <td>314077</td>\n",
       "    </tr>\n",
       "    <tr>\n",
       "      <th>4</th>\n",
       "      <td>伏锦曦</td>\n",
       "      <td>20201001817</td>\n",
       "      <td>28405892</td>\n",
       "      <td>48804</td>\n",
       "    </tr>\n",
       "  </tbody>\n",
       "</table>\n",
       "</div>"
      ],
      "text/plain": [
       "    姓名           学号      用户id  在线时长（秒）\n",
       "0   丁磊  20201000062  28405756   451753\n",
       "1  严佳旺  20201000327  28405787    32436\n",
       "2  付少坤  20201004172  28405855   252447\n",
       "3  任勇浩  20201002222  28405870   314077\n",
       "4  伏锦曦  20201001817  28405892    48804"
      ]
     },
     "execution_count": 10,
     "metadata": {},
     "output_type": "execute_result"
    }
   ],
   "source": [
    "tmc = pd.concat([data_tm, data_tm.loc[:32760-29414, :]], axis = 0)\n",
    "tmc.reset_index(drop = True, inplace = True)\n",
    "data_perb.loc[:, '在线时长（秒）'] = tmc['在线时长（秒）']\n",
    "data_perb.head()"
   ]
  },
  {
   "cell_type": "markdown",
   "id": "b657c34f",
   "metadata": {},
   "source": [
    "## 2. t_stat_course_person --> 人课关系表"
   ]
  },
  {
   "cell_type": "code",
   "execution_count": 11,
   "id": "7f147b35",
   "metadata": {},
   "outputs": [
    {
     "name": "stdout",
     "output_type": "stream",
     "text": [
      "(2284, 10)\n",
      "(2246, 2)\n"
     ]
    },
    {
     "data": {
      "text/html": [
       "<div>\n",
       "<style scoped>\n",
       "    .dataframe tbody tr th:only-of-type {\n",
       "        vertical-align: middle;\n",
       "    }\n",
       "\n",
       "    .dataframe tbody tr th {\n",
       "        vertical-align: top;\n",
       "    }\n",
       "\n",
       "    .dataframe thead th {\n",
       "        text-align: right;\n",
       "    }\n",
       "</style>\n",
       "<table border=\"1\" class=\"dataframe\">\n",
       "  <thead>\n",
       "    <tr style=\"text-align: right;\">\n",
       "      <th></th>\n",
       "      <th>用户id</th>\n",
       "      <th>课程id</th>\n",
       "    </tr>\n",
       "  </thead>\n",
       "  <tbody>\n",
       "    <tr>\n",
       "      <th>0</th>\n",
       "      <td>51465331</td>\n",
       "      <td>226410295</td>\n",
       "    </tr>\n",
       "    <tr>\n",
       "      <th>1</th>\n",
       "      <td>111944914</td>\n",
       "      <td>226410295</td>\n",
       "    </tr>\n",
       "    <tr>\n",
       "      <th>2</th>\n",
       "      <td>111946468</td>\n",
       "      <td>226410295</td>\n",
       "    </tr>\n",
       "    <tr>\n",
       "      <th>3</th>\n",
       "      <td>147372556</td>\n",
       "      <td>226410295</td>\n",
       "    </tr>\n",
       "    <tr>\n",
       "      <th>4</th>\n",
       "      <td>147374240</td>\n",
       "      <td>226410295</td>\n",
       "    </tr>\n",
       "  </tbody>\n",
       "</table>\n",
       "</div>"
      ],
      "text/plain": [
       "        用户id       课程id\n",
       "0   51465331  226410295\n",
       "1  111944914  226410295\n",
       "2  111946468  226410295\n",
       "3  147372556  226410295\n",
       "4  147374240  226410295"
      ]
     },
     "execution_count": 11,
     "metadata": {},
     "output_type": "execute_result"
    }
   ],
   "source": [
    "# 学习通的数据\n",
    "df_cps = getdf(path, 't_stat_course_person.xls')\n",
    "df_cps = dropdata_(df_cps, 'role', 1)\n",
    "df_cps = dropdata_(df_cps, 'clazzid', 0)\n",
    "\n",
    "# 判断是否有删除记录并删除\n",
    "df_cps = IFisDeleted(df_cps)\n",
    "data_cps = getdata(df_cps, ['personid', 'courseid'], ['用户id', '课程id'])\n",
    "data_cps.head()"
   ]
  },
  {
   "cell_type": "code",
   "execution_count": 12,
   "id": "4cdff031",
   "metadata": {},
   "outputs": [
    {
     "name": "stdout",
     "output_type": "stream",
     "text": [
      "(551548, 10)\n",
      "(328400, 2)\n"
     ]
    },
    {
     "data": {
      "text/html": [
       "<div>\n",
       "<style scoped>\n",
       "    .dataframe tbody tr th:only-of-type {\n",
       "        vertical-align: middle;\n",
       "    }\n",
       "\n",
       "    .dataframe tbody tr th {\n",
       "        vertical-align: top;\n",
       "    }\n",
       "\n",
       "    .dataframe thead th {\n",
       "        text-align: right;\n",
       "    }\n",
       "</style>\n",
       "<table border=\"1\" class=\"dataframe\">\n",
       "  <thead>\n",
       "    <tr style=\"text-align: right;\">\n",
       "      <th></th>\n",
       "      <th>用户id</th>\n",
       "      <th>班级id</th>\n",
       "    </tr>\n",
       "  </thead>\n",
       "  <tbody>\n",
       "    <tr>\n",
       "      <th>0</th>\n",
       "      <td>28428481</td>\n",
       "      <td>8009920</td>\n",
       "    </tr>\n",
       "    <tr>\n",
       "      <th>1</th>\n",
       "      <td>28428482</td>\n",
       "      <td>8009920</td>\n",
       "    </tr>\n",
       "    <tr>\n",
       "      <th>2</th>\n",
       "      <td>28428483</td>\n",
       "      <td>8009920</td>\n",
       "    </tr>\n",
       "    <tr>\n",
       "      <th>3</th>\n",
       "      <td>28428484</td>\n",
       "      <td>8009920</td>\n",
       "    </tr>\n",
       "    <tr>\n",
       "      <th>4</th>\n",
       "      <td>28428485</td>\n",
       "      <td>8009920</td>\n",
       "    </tr>\n",
       "  </tbody>\n",
       "</table>\n",
       "</div>"
      ],
      "text/plain": [
       "       用户id     班级id\n",
       "0  28428481  8009920\n",
       "1  28428482  8009920\n",
       "2  28428483  8009920\n",
       "3  28428484  8009920\n",
       "4  28428485  8009920"
      ]
     },
     "execution_count": 12,
     "metadata": {},
     "output_type": "execute_result"
    }
   ],
   "source": [
    "# 雨课堂的数据\n",
    "# 获得所以文件路径\n",
    "cpb_file = FilesPath('data/b1_t_stat_course_person/')\n",
    "df_cpb = pd.DataFrame()\n",
    "for file_path in (cpb_file):\n",
    "    dlog = pd.read_csv(file_path, encoding = 'utf-8')\n",
    "    df_cpb = pd.concat([df_cpb, dlog])\n",
    "\n",
    "# 重新设置索引 从0开始\n",
    "df_cpb.reset_index(drop = True, inplace = True)\n",
    "df_cpb = dropdata_(df_cpb, 'role', 1)\n",
    "df_cpb = dropdata_(df_cpb, 'clazzid', 0)\n",
    "\n",
    "print(df_cpb.shape)\n",
    "# 判断是否有删除记录并删除\n",
    "df_cpb = IFisDeleted(df_cpb)\n",
    "# 筛选日期2022.2.1-2022.8.30的数据行\n",
    "data_cpb = querydate(df_cpb, dates[0], dates[1], ['personid', 'clazzid'], ['用户id', '班级id'])\n",
    "print(data_cpb.shape)\n",
    "data_cpb.head()"
   ]
  },
  {
   "cell_type": "code",
   "execution_count": 13,
   "id": "594c590e",
   "metadata": {},
   "outputs": [
    {
     "name": "stdout",
     "output_type": "stream",
     "text": [
      "(195420, 3)\n"
     ]
    }
   ],
   "source": [
    "data_cpb = pd.merge(data_cpb, data_cla, on = '班级id')\n",
    "data_cpb.reset_index(drop = True, inplace = True)\n",
    "print(data_cpb.shape)"
   ]
  },
  {
   "cell_type": "code",
   "execution_count": 14,
   "id": "eb37e6ea",
   "metadata": {},
   "outputs": [
    {
     "name": "stdout",
     "output_type": "stream",
     "text": [
      "(79750, 2)\n"
     ]
    },
    {
     "data": {
      "text/html": [
       "<div>\n",
       "<style scoped>\n",
       "    .dataframe tbody tr th:only-of-type {\n",
       "        vertical-align: middle;\n",
       "    }\n",
       "\n",
       "    .dataframe tbody tr th {\n",
       "        vertical-align: top;\n",
       "    }\n",
       "\n",
       "    .dataframe thead th {\n",
       "        text-align: right;\n",
       "    }\n",
       "</style>\n",
       "<table border=\"1\" class=\"dataframe\">\n",
       "  <thead>\n",
       "    <tr style=\"text-align: right;\">\n",
       "      <th></th>\n",
       "      <th>用户id</th>\n",
       "      <th>课程id</th>\n",
       "    </tr>\n",
       "  </thead>\n",
       "  <tbody>\n",
       "    <tr>\n",
       "      <th>0</th>\n",
       "      <td>51465331</td>\n",
       "      <td>226410295</td>\n",
       "    </tr>\n",
       "    <tr>\n",
       "      <th>1</th>\n",
       "      <td>111944914</td>\n",
       "      <td>226410295</td>\n",
       "    </tr>\n",
       "    <tr>\n",
       "      <th>2</th>\n",
       "      <td>111946468</td>\n",
       "      <td>226410295</td>\n",
       "    </tr>\n",
       "    <tr>\n",
       "      <th>3</th>\n",
       "      <td>147372556</td>\n",
       "      <td>226410295</td>\n",
       "    </tr>\n",
       "    <tr>\n",
       "      <th>4</th>\n",
       "      <td>147374240</td>\n",
       "      <td>226410295</td>\n",
       "    </tr>\n",
       "  </tbody>\n",
       "</table>\n",
       "</div>"
      ],
      "text/plain": [
       "        用户id       课程id\n",
       "0   51465331  226410295\n",
       "1  111944914  226410295\n",
       "2  111946468  226410295\n",
       "3  147372556  226410295\n",
       "4  147374240  226410295"
      ]
     },
     "execution_count": 14,
     "metadata": {},
     "output_type": "execute_result"
    }
   ],
   "source": [
    "# 数据合并\n",
    "data_cp = pd.concat([data_cps, data_cpb[['用户id', '课程id']]], axis = 0)\n",
    "data_cp = df_clear(data_cp)\n",
    "data_cp.reset_index(drop = True, inplace = True)\n",
    "print(data_cp.shape)\n",
    "data_cp.head()"
   ]
  },
  {
   "cell_type": "markdown",
   "id": "64105b63",
   "metadata": {},
   "source": [
    "#### 数据合并"
   ]
  },
  {
   "cell_type": "code",
   "execution_count": 554,
   "id": "3f7da529",
   "metadata": {
    "scrolled": true
   },
   "outputs": [
    {
     "name": "stdout",
     "output_type": "stream",
     "text": [
      "(34246, 4)\n"
     ]
    },
    {
     "data": {
      "text/html": [
       "<div>\n",
       "<style scoped>\n",
       "    .dataframe tbody tr th:only-of-type {\n",
       "        vertical-align: middle;\n",
       "    }\n",
       "\n",
       "    .dataframe tbody tr th {\n",
       "        vertical-align: top;\n",
       "    }\n",
       "\n",
       "    .dataframe thead th {\n",
       "        text-align: right;\n",
       "    }\n",
       "</style>\n",
       "<table border=\"1\" class=\"dataframe\">\n",
       "  <thead>\n",
       "    <tr style=\"text-align: right;\">\n",
       "      <th></th>\n",
       "      <th>用户id</th>\n",
       "      <th>姓名</th>\n",
       "      <th>学号</th>\n",
       "      <th>在线时长（秒）</th>\n",
       "    </tr>\n",
       "  </thead>\n",
       "  <tbody>\n",
       "    <tr>\n",
       "      <th>0</th>\n",
       "      <td>51465331</td>\n",
       "      <td>丁屹中</td>\n",
       "      <td>20161003949</td>\n",
       "      <td>7047</td>\n",
       "    </tr>\n",
       "    <tr>\n",
       "      <th>1</th>\n",
       "      <td>111944914</td>\n",
       "      <td>娜迪热·艾尔肯</td>\n",
       "      <td>20191004561</td>\n",
       "      <td>209251</td>\n",
       "    </tr>\n",
       "    <tr>\n",
       "      <th>2</th>\n",
       "      <td>111946468</td>\n",
       "      <td>何倩</td>\n",
       "      <td>20191004398</td>\n",
       "      <td>207885</td>\n",
       "    </tr>\n",
       "    <tr>\n",
       "      <th>3</th>\n",
       "      <td>147372556</td>\n",
       "      <td>熊锐</td>\n",
       "      <td>20201001447</td>\n",
       "      <td>334696</td>\n",
       "    </tr>\n",
       "    <tr>\n",
       "      <th>4</th>\n",
       "      <td>147374240</td>\n",
       "      <td>郑玉洁</td>\n",
       "      <td>20201001777</td>\n",
       "      <td>118632</td>\n",
       "    </tr>\n",
       "  </tbody>\n",
       "</table>\n",
       "</div>"
      ],
      "text/plain": [
       "        用户id       姓名           学号  在线时长（秒）\n",
       "0   51465331      丁屹中  20161003949     7047\n",
       "1  111944914  娜迪热·艾尔肯  20191004561   209251\n",
       "2  111946468       何倩  20191004398   207885\n",
       "3  147372556       熊锐  20201001447   334696\n",
       "4  147374240      郑玉洁  20201001777   118632"
      ]
     },
     "execution_count": 554,
     "metadata": {},
     "output_type": "execute_result"
    }
   ],
   "source": [
    "data_stu = pd.concat([data_npers, data_perb], axis = 0)\n",
    "data_stu = data_stu[data_stu['用户id'].isna() == False]\n",
    "data_stu = data_stu[data_stu['姓名'].isna() == False]\n",
    "data_stu = data_str_clear(data_stu)\n",
    "data_stu.reset_index(drop = True, inplace = True)\n",
    "print(data_stu.shape)\n",
    "data_stu.head()"
   ]
  },
  {
   "cell_type": "markdown",
   "id": "8c317571",
   "metadata": {},
   "source": [
    "#### 保存数据"
   ]
  },
  {
   "cell_type": "code",
   "execution_count": 556,
   "id": "fd72e820",
   "metadata": {},
   "outputs": [],
   "source": [
    "data_stu.to_csv('E:/比赛/data/1.学生名单.csv', index = False, encoding = 'utf_8_sig')"
   ]
  },
  {
   "cell_type": "markdown",
   "id": "89b9e5cf",
   "metadata": {},
   "source": [
    "## 3. t_stat_activity_log.xls --> 课堂活动参与表"
   ]
  },
  {
   "cell_type": "code",
   "execution_count": 18,
   "id": "0f727125",
   "metadata": {},
   "outputs": [
    {
     "name": "stdout",
     "output_type": "stream",
     "text": [
      "['VoteLog' 'WorkLog' 'PreampAnswerLog' 'ChooseSomeoneLog' 'TaskLog' '已签'\n",
      " '签到已过期' '代签' '公假' '病假']\n",
      "(6129, 5)\n"
     ]
    },
    {
     "data": {
      "text/html": [
       "<div>\n",
       "<style scoped>\n",
       "    .dataframe tbody tr th:only-of-type {\n",
       "        vertical-align: middle;\n",
       "    }\n",
       "\n",
       "    .dataframe tbody tr th {\n",
       "        vertical-align: top;\n",
       "    }\n",
       "\n",
       "    .dataframe thead th {\n",
       "        text-align: right;\n",
       "    }\n",
       "</style>\n",
       "<table border=\"1\" class=\"dataframe\">\n",
       "  <thead>\n",
       "    <tr style=\"text-align: right;\">\n",
       "      <th></th>\n",
       "      <th>日期</th>\n",
       "      <th>活动类型</th>\n",
       "      <th>用户id</th>\n",
       "      <th>课程id</th>\n",
       "      <th>活动id</th>\n",
       "    </tr>\n",
       "  </thead>\n",
       "  <tbody>\n",
       "    <tr>\n",
       "      <th>0</th>\n",
       "      <td>2022-04-25 14:47</td>\n",
       "      <td>VoteLog</td>\n",
       "      <td>111949230</td>\n",
       "      <td>224841013</td>\n",
       "      <td>6000022019599</td>\n",
       "    </tr>\n",
       "    <tr>\n",
       "      <th>1</th>\n",
       "      <td>2022-04-25 14:47</td>\n",
       "      <td>VoteLog</td>\n",
       "      <td>111947461</td>\n",
       "      <td>224841013</td>\n",
       "      <td>6000022019599</td>\n",
       "    </tr>\n",
       "    <tr>\n",
       "      <th>2</th>\n",
       "      <td>2022-04-25 14:48</td>\n",
       "      <td>VoteLog</td>\n",
       "      <td>111944124</td>\n",
       "      <td>224841013</td>\n",
       "      <td>6000022019599</td>\n",
       "    </tr>\n",
       "    <tr>\n",
       "      <th>3</th>\n",
       "      <td>2022-04-25 14:48</td>\n",
       "      <td>VoteLog</td>\n",
       "      <td>111944820</td>\n",
       "      <td>224841013</td>\n",
       "      <td>6000022019599</td>\n",
       "    </tr>\n",
       "    <tr>\n",
       "      <th>4</th>\n",
       "      <td>2022-04-25 14:48</td>\n",
       "      <td>VoteLog</td>\n",
       "      <td>111947022</td>\n",
       "      <td>224841013</td>\n",
       "      <td>6000022019599</td>\n",
       "    </tr>\n",
       "  </tbody>\n",
       "</table>\n",
       "</div>"
      ],
      "text/plain": [
       "                 日期     活动类型       用户id       课程id           活动id\n",
       "0  2022-04-25 14:47  VoteLog  111949230  224841013  6000022019599\n",
       "1  2022-04-25 14:47  VoteLog  111947461  224841013  6000022019599\n",
       "2  2022-04-25 14:48  VoteLog  111944124  224841013  6000022019599\n",
       "3  2022-04-25 14:48  VoteLog  111944820  224841013  6000022019599\n",
       "4  2022-04-25 14:48  VoteLog  111947022  224841013  6000022019599"
      ]
     },
     "execution_count": 18,
     "metadata": {},
     "output_type": "execute_result"
    }
   ],
   "source": [
    "# 学习通的数据\n",
    "df = pd.read_excel('data/t_stat_activity_log.xls')\n",
    "# col_name-用于暂存需要列的名称\n",
    "col_name = ['attend_time', *df.columns[4:5].values, *df.columns[6:8], 'attend_id', 'status']\n",
    "\n",
    "# 提取出所需的列\n",
    "data = df[col_name]\n",
    "\n",
    "\n",
    "key = [0, 1, 2, 4, 5, 7, 8, 9, 10, 11, 12]\n",
    "val = ['未签', '已签', '代签', '请假', '缺勤', '病假', '事假', '迟到', '早退', '签到已过期', '公假']\n",
    "sets = dict(zip(key, val))\n",
    "data.loc[data['dtype'] == 'AttendLog', 'dtype'] = data[data['dtype'] == 'AttendLog'].status.map(sets)\n",
    "\n",
    "# 数据清洗\n",
    "data = dropdata_(data, 'personid', perids)\n",
    "data = data_str_clear(data)\n",
    "# 删除状态\n",
    "data.pop('status')\n",
    "\n",
    "# 改列名\n",
    "colnames = ['日期', '活动类型', '用户id', '课程id', '活动id']\n",
    "data.columns = colnames\n",
    "\n",
    "print(data['活动类型'].unique())\n",
    "print(data.shape)\n",
    "data.head()"
   ]
  },
  {
   "cell_type": "markdown",
   "id": "eb2060d4",
   "metadata": {},
   "source": [
    "#### 雨课堂数据"
   ]
  },
  {
   "cell_type": "code",
   "execution_count": 19,
   "id": "10ed800d",
   "metadata": {},
   "outputs": [
    {
     "name": "stdout",
     "output_type": "stream",
     "text": [
      "(419493, 4)\n",
      "(382672, 5)\n"
     ]
    },
    {
     "data": {
      "text/html": [
       "<div>\n",
       "<style scoped>\n",
       "    .dataframe tbody tr th:only-of-type {\n",
       "        vertical-align: middle;\n",
       "    }\n",
       "\n",
       "    .dataframe tbody tr th {\n",
       "        vertical-align: top;\n",
       "    }\n",
       "\n",
       "    .dataframe thead th {\n",
       "        text-align: right;\n",
       "    }\n",
       "</style>\n",
       "<table border=\"1\" class=\"dataframe\">\n",
       "  <thead>\n",
       "    <tr style=\"text-align: right;\">\n",
       "      <th></th>\n",
       "      <th>日期</th>\n",
       "      <th>活动类型</th>\n",
       "      <th>用户id</th>\n",
       "      <th>班级id</th>\n",
       "      <th>活动id</th>\n",
       "    </tr>\n",
       "  </thead>\n",
       "  <tbody>\n",
       "    <tr>\n",
       "      <th>0</th>\n",
       "      <td>2021-09-02 07:56</td>\n",
       "      <td>已签</td>\n",
       "      <td>28405756</td>\n",
       "      <td>6136781</td>\n",
       "      <td>其他</td>\n",
       "    </tr>\n",
       "    <tr>\n",
       "      <th>1</th>\n",
       "      <td>2021-09-02 08:55</td>\n",
       "      <td>已签</td>\n",
       "      <td>28405756</td>\n",
       "      <td>6136781</td>\n",
       "      <td>其他</td>\n",
       "    </tr>\n",
       "    <tr>\n",
       "      <th>2</th>\n",
       "      <td>2021-09-03 09:51</td>\n",
       "      <td>已签</td>\n",
       "      <td>28405756</td>\n",
       "      <td>6137477</td>\n",
       "      <td>其他</td>\n",
       "    </tr>\n",
       "    <tr>\n",
       "      <th>3</th>\n",
       "      <td>2021-09-09 10:06</td>\n",
       "      <td>已签</td>\n",
       "      <td>28405756</td>\n",
       "      <td>6137100</td>\n",
       "      <td>其他</td>\n",
       "    </tr>\n",
       "    <tr>\n",
       "      <th>4</th>\n",
       "      <td>2022-03-09 14:52</td>\n",
       "      <td>已签</td>\n",
       "      <td>28405855</td>\n",
       "      <td>8011388</td>\n",
       "      <td>其他</td>\n",
       "    </tr>\n",
       "  </tbody>\n",
       "</table>\n",
       "</div>"
      ],
      "text/plain": [
       "                 日期 活动类型      用户id     班级id 活动id\n",
       "0  2021-09-02 07:56   已签  28405756  6136781   其他\n",
       "1  2021-09-02 08:55   已签  28405756  6136781   其他\n",
       "2  2021-09-03 09:51   已签  28405756  6137477   其他\n",
       "3  2021-09-09 10:06   已签  28405756  6137100   其他\n",
       "4  2022-03-09 14:52   已签  28405855  8011388   其他"
      ]
     },
     "execution_count": 19,
     "metadata": {},
     "output_type": "execute_result"
    }
   ],
   "source": [
    "# 雨课堂的数据\n",
    "df_b = pd.read_csv('data/b1_t_stat_activity_log.csv', chunksize = 10000)\n",
    "data_b = pd.DataFrame()\n",
    "# 每块数据 30w 行\n",
    "for i in df_b:\n",
    "    # 筛选日期2022.2.1-2022.8.30的数据行\n",
    "    i1 = querydate(i, dates[0], dates[1], ['attend_time', 'dtype', 'personid', 'clazzid'], ['日期', '活动类型', '用户id', '班级id'])\n",
    "    # 数据清洗\n",
    "    i1 = data_str_clear(i1)\n",
    "    data_b = pd.concat([data_b, i1])\n",
    "print(data_b.shape)\n",
    "data_b = droptead(data_b, '用户id', peridb)\n",
    "data_b['活动类型'] = '已签'\n",
    "data_b['日期'] = cgdatetime(data_b, '日期').apply(lambda x:x.strftime('%Y-%m-%d %H:%M')) \n",
    "data_b.drop_duplicates(subset = ['日期', '活动类型', '用户id', '班级id'],inplace = True)\n",
    "data_b['活动id'] = '其他'\n",
    "print(data_b.shape)\n",
    "data_b.head()"
   ]
  },
  {
   "cell_type": "code",
   "execution_count": 20,
   "id": "68ec25f3",
   "metadata": {},
   "outputs": [
    {
     "name": "stdout",
     "output_type": "stream",
     "text": [
      "(338503, 6)\n"
     ]
    }
   ],
   "source": [
    "data_b = pd.merge(data_b, data_cla, on = '班级id')\n",
    "print(data_b.shape)"
   ]
  },
  {
   "cell_type": "markdown",
   "id": "fe5ef2f0",
   "metadata": {},
   "source": [
    "#### 数据合并"
   ]
  },
  {
   "cell_type": "code",
   "execution_count": 21,
   "id": "9c9c4b97",
   "metadata": {},
   "outputs": [
    {
     "name": "stdout",
     "output_type": "stream",
     "text": [
      "(344632, 5)\n"
     ]
    },
    {
     "data": {
      "text/html": [
       "<div>\n",
       "<style scoped>\n",
       "    .dataframe tbody tr th:only-of-type {\n",
       "        vertical-align: middle;\n",
       "    }\n",
       "\n",
       "    .dataframe tbody tr th {\n",
       "        vertical-align: top;\n",
       "    }\n",
       "\n",
       "    .dataframe thead th {\n",
       "        text-align: right;\n",
       "    }\n",
       "</style>\n",
       "<table border=\"1\" class=\"dataframe\">\n",
       "  <thead>\n",
       "    <tr style=\"text-align: right;\">\n",
       "      <th></th>\n",
       "      <th>日期</th>\n",
       "      <th>活动类型</th>\n",
       "      <th>用户id</th>\n",
       "      <th>课程id</th>\n",
       "      <th>活动id</th>\n",
       "    </tr>\n",
       "  </thead>\n",
       "  <tbody>\n",
       "    <tr>\n",
       "      <th>0</th>\n",
       "      <td>2022-04-25 14:47</td>\n",
       "      <td>VoteLog</td>\n",
       "      <td>111949230</td>\n",
       "      <td>224841013</td>\n",
       "      <td>6000022019599</td>\n",
       "    </tr>\n",
       "    <tr>\n",
       "      <th>1</th>\n",
       "      <td>2022-04-25 14:47</td>\n",
       "      <td>VoteLog</td>\n",
       "      <td>111947461</td>\n",
       "      <td>224841013</td>\n",
       "      <td>6000022019599</td>\n",
       "    </tr>\n",
       "    <tr>\n",
       "      <th>2</th>\n",
       "      <td>2022-04-25 14:48</td>\n",
       "      <td>VoteLog</td>\n",
       "      <td>111944124</td>\n",
       "      <td>224841013</td>\n",
       "      <td>6000022019599</td>\n",
       "    </tr>\n",
       "    <tr>\n",
       "      <th>3</th>\n",
       "      <td>2022-04-25 14:48</td>\n",
       "      <td>VoteLog</td>\n",
       "      <td>111944820</td>\n",
       "      <td>224841013</td>\n",
       "      <td>6000022019599</td>\n",
       "    </tr>\n",
       "    <tr>\n",
       "      <th>4</th>\n",
       "      <td>2022-04-25 14:48</td>\n",
       "      <td>VoteLog</td>\n",
       "      <td>111947022</td>\n",
       "      <td>224841013</td>\n",
       "      <td>6000022019599</td>\n",
       "    </tr>\n",
       "  </tbody>\n",
       "</table>\n",
       "</div>"
      ],
      "text/plain": [
       "                 日期     活动类型       用户id       课程id           活动id\n",
       "0  2022-04-25 14:47  VoteLog  111949230  224841013  6000022019599\n",
       "1  2022-04-25 14:47  VoteLog  111947461  224841013  6000022019599\n",
       "2  2022-04-25 14:48  VoteLog  111944124  224841013  6000022019599\n",
       "3  2022-04-25 14:48  VoteLog  111944820  224841013  6000022019599\n",
       "4  2022-04-25 14:48  VoteLog  111947022  224841013  6000022019599"
      ]
     },
     "execution_count": 21,
     "metadata": {},
     "output_type": "execute_result"
    }
   ],
   "source": [
    "# 数据合并\n",
    "data_per = pd.concat([data, data_b[data.columns]], axis = 0)\n",
    "data_per.reset_index(drop = True, inplace = True)\n",
    "print(data_per.shape)\n",
    "data_per.head()"
   ]
  },
  {
   "cell_type": "markdown",
   "id": "feadc2ad",
   "metadata": {},
   "source": [
    "#### 数据保存"
   ]
  },
  {
   "cell_type": "code",
   "execution_count": 557,
   "id": "b11e94b2",
   "metadata": {},
   "outputs": [],
   "source": [
    "data_per.to_csv('E:/比赛/data/3.学生课堂活动参与表.csv', index = False, encoding = 'utf_8_sig')"
   ]
  },
  {
   "cell_type": "markdown",
   "id": "9b0f8da2",
   "metadata": {},
   "source": [
    "## 4. t_stat_bbs_log.xls --> 讨论流水\n",
    "### 207 行 14 列"
   ]
  },
  {
   "cell_type": "code",
   "execution_count": 23,
   "id": "1bea6603",
   "metadata": {},
   "outputs": [
    {
     "name": "stdout",
     "output_type": "stream",
     "text": [
      "(207, 14)\n",
      "(205, 4)\n"
     ]
    },
    {
     "data": {
      "text/html": [
       "<div>\n",
       "<style scoped>\n",
       "    .dataframe tbody tr th:only-of-type {\n",
       "        vertical-align: middle;\n",
       "    }\n",
       "\n",
       "    .dataframe tbody tr th {\n",
       "        vertical-align: top;\n",
       "    }\n",
       "\n",
       "    .dataframe thead th {\n",
       "        text-align: right;\n",
       "    }\n",
       "</style>\n",
       "<table border=\"1\" class=\"dataframe\">\n",
       "  <thead>\n",
       "    <tr style=\"text-align: right;\">\n",
       "      <th></th>\n",
       "      <th>日期</th>\n",
       "      <th>活动类型</th>\n",
       "      <th>用户id</th>\n",
       "      <th>课程id</th>\n",
       "      <th>活动id</th>\n",
       "    </tr>\n",
       "  </thead>\n",
       "  <tbody>\n",
       "    <tr>\n",
       "      <th>0</th>\n",
       "      <td>2022-06-15 15:09</td>\n",
       "      <td>讨论</td>\n",
       "      <td>68286748</td>\n",
       "      <td>224841013</td>\n",
       "      <td>201f62ceb08934c089e6a162c7759ac5</td>\n",
       "    </tr>\n",
       "    <tr>\n",
       "      <th>1</th>\n",
       "      <td>2022-06-15 15:10</td>\n",
       "      <td>讨论</td>\n",
       "      <td>68286748</td>\n",
       "      <td>224841013</td>\n",
       "      <td>201f62ceb08934c089e6a162c7759ac5</td>\n",
       "    </tr>\n",
       "    <tr>\n",
       "      <th>2</th>\n",
       "      <td>2022-06-15 15:15</td>\n",
       "      <td>讨论</td>\n",
       "      <td>68286748</td>\n",
       "      <td>224841013</td>\n",
       "      <td>201f62ceb08934c089e6a162c7759ac5</td>\n",
       "    </tr>\n",
       "    <tr>\n",
       "      <th>3</th>\n",
       "      <td>2022-06-15 15:20</td>\n",
       "      <td>讨论</td>\n",
       "      <td>68286748</td>\n",
       "      <td>224841013</td>\n",
       "      <td>201f62ceb08934c089e6a162c7759ac5</td>\n",
       "    </tr>\n",
       "    <tr>\n",
       "      <th>4</th>\n",
       "      <td>2022-06-15 15:24</td>\n",
       "      <td>讨论</td>\n",
       "      <td>68286748</td>\n",
       "      <td>224841013</td>\n",
       "      <td>201f62ceb08934c089e6a162c7759ac5</td>\n",
       "    </tr>\n",
       "  </tbody>\n",
       "</table>\n",
       "</div>"
      ],
      "text/plain": [
       "                 日期 活动类型      用户id       课程id  \\\n",
       "0  2022-06-15 15:09   讨论  68286748  224841013   \n",
       "1  2022-06-15 15:10   讨论  68286748  224841013   \n",
       "2  2022-06-15 15:15   讨论  68286748  224841013   \n",
       "3  2022-06-15 15:20   讨论  68286748  224841013   \n",
       "4  2022-06-15 15:24   讨论  68286748  224841013   \n",
       "\n",
       "                               活动id  \n",
       "0  201f62ceb08934c089e6a162c7759ac5  \n",
       "1  201f62ceb08934c089e6a162c7759ac5  \n",
       "2  201f62ceb08934c089e6a162c7759ac5  \n",
       "3  201f62ceb08934c089e6a162c7759ac5  \n",
       "4  201f62ceb08934c089e6a162c7759ac5  "
      ]
     },
     "execution_count": 23,
     "metadata": {},
     "output_type": "execute_result"
    }
   ],
   "source": [
    "# 学习通数据\n",
    "df_bbs = getdf(path, 't_stat_bbs_log.xls')\n",
    "df_bbs = dropdata_(df_bbs, 'role', 1)\n",
    "data_bbs = getdata(df_bbs, ['last_modify_time', 'personid', 'courseid', 'bbs_id'], ['日期', '用户id', '课程id', '活动id'])\n",
    "data_bbs.insert(loc = 1, column = '活动类型', value = '讨论')\n",
    "data_bbs.head()"
   ]
  },
  {
   "cell_type": "markdown",
   "id": "0fd894d7",
   "metadata": {},
   "source": [
    "#### 雨课堂数据"
   ]
  },
  {
   "cell_type": "code",
   "execution_count": 24,
   "id": "2badad90",
   "metadata": {
    "scrolled": false
   },
   "outputs": [
    {
     "name": "stdout",
     "output_type": "stream",
     "text": [
      "(1919, 14)\n",
      "(1206, 4)\n",
      "(1096, 5)\n"
     ]
    },
    {
     "data": {
      "text/html": [
       "<div>\n",
       "<style scoped>\n",
       "    .dataframe tbody tr th:only-of-type {\n",
       "        vertical-align: middle;\n",
       "    }\n",
       "\n",
       "    .dataframe tbody tr th {\n",
       "        vertical-align: top;\n",
       "    }\n",
       "\n",
       "    .dataframe thead th {\n",
       "        text-align: right;\n",
       "    }\n",
       "</style>\n",
       "<table border=\"1\" class=\"dataframe\">\n",
       "  <thead>\n",
       "    <tr style=\"text-align: right;\">\n",
       "      <th></th>\n",
       "      <th>日期</th>\n",
       "      <th>活动类型</th>\n",
       "      <th>用户id</th>\n",
       "      <th>班级id</th>\n",
       "      <th>活动id</th>\n",
       "    </tr>\n",
       "  </thead>\n",
       "  <tbody>\n",
       "    <tr>\n",
       "      <th>0</th>\n",
       "      <td>2022-02-11 05:00:05</td>\n",
       "      <td>讨论</td>\n",
       "      <td>28433407</td>\n",
       "      <td>4200560</td>\n",
       "      <td>1486035</td>\n",
       "    </tr>\n",
       "    <tr>\n",
       "      <th>1</th>\n",
       "      <td>2022-02-11 05:00:05</td>\n",
       "      <td>讨论</td>\n",
       "      <td>28422471</td>\n",
       "      <td>5374085</td>\n",
       "      <td>3060165</td>\n",
       "    </tr>\n",
       "    <tr>\n",
       "      <th>2</th>\n",
       "      <td>2022-02-11 05:00:05</td>\n",
       "      <td>讨论</td>\n",
       "      <td>28422513</td>\n",
       "      <td>5374085</td>\n",
       "      <td>3060752</td>\n",
       "    </tr>\n",
       "    <tr>\n",
       "      <th>3</th>\n",
       "      <td>2022-02-11 05:00:05</td>\n",
       "      <td>讨论</td>\n",
       "      <td>28433351</td>\n",
       "      <td>4200560</td>\n",
       "      <td>1654964</td>\n",
       "    </tr>\n",
       "    <tr>\n",
       "      <th>4</th>\n",
       "      <td>2022-02-11 05:00:05</td>\n",
       "      <td>讨论</td>\n",
       "      <td>28433350</td>\n",
       "      <td>4200560</td>\n",
       "      <td>1654964</td>\n",
       "    </tr>\n",
       "  </tbody>\n",
       "</table>\n",
       "</div>"
      ],
      "text/plain": [
       "                    日期 活动类型      用户id     班级id     活动id\n",
       "0  2022-02-11 05:00:05   讨论  28433407  4200560  1486035\n",
       "1  2022-02-11 05:00:05   讨论  28422471  5374085  3060165\n",
       "2  2022-02-11 05:00:05   讨论  28422513  5374085  3060752\n",
       "3  2022-02-11 05:00:05   讨论  28433351  4200560  1654964\n",
       "4  2022-02-11 05:00:05   讨论  28433350  4200560  1654964"
      ]
     },
     "execution_count": 24,
     "metadata": {},
     "output_type": "execute_result"
    }
   ],
   "source": [
    "# 雨课堂的数据\n",
    "df_bbb = getdf(path, 'b1_t_stat_bbs_log.xlsx')\n",
    "# 筛选日期2022.2.1-2022.8.30的数据行\n",
    "data_bbb = querydate(df_bbb, dates[0], dates[1], ['last_modify_time', 'personid', 'clazzid', 'topic_id'], ['日期', '用户id', '班级id', '活动id'])\n",
    "print(data_bbb.shape)\n",
    "\n",
    "# 数据清洗\n",
    "data_bbb = dropdata_(data_bbb, '用户id', peridb)\n",
    "data_bbb = data_str_clear(data_bbb)\n",
    "data_bbb.insert(loc = 1, column = '活动类型', value = '讨论')\n",
    "\n",
    "print(data_bbb.shape)\n",
    "data_bbb.head()"
   ]
  },
  {
   "cell_type": "code",
   "execution_count": 25,
   "id": "b9b22b50",
   "metadata": {},
   "outputs": [
    {
     "name": "stdout",
     "output_type": "stream",
     "text": [
      "(1025, 6)\n"
     ]
    }
   ],
   "source": [
    "data_bbb = pd.merge(data_bbb, data_cla, on = '班级id')\n",
    "data_bbb.drop_duplicates(inplace = True)\n",
    "print(data_bbb.shape)"
   ]
  },
  {
   "cell_type": "markdown",
   "id": "01687f6e",
   "metadata": {},
   "source": [
    "#### 数据合并"
   ]
  },
  {
   "cell_type": "code",
   "execution_count": 26,
   "id": "cab9ee51",
   "metadata": {},
   "outputs": [
    {
     "name": "stdout",
     "output_type": "stream",
     "text": [
      "(1230, 5)\n"
     ]
    },
    {
     "data": {
      "text/html": [
       "<div>\n",
       "<style scoped>\n",
       "    .dataframe tbody tr th:only-of-type {\n",
       "        vertical-align: middle;\n",
       "    }\n",
       "\n",
       "    .dataframe tbody tr th {\n",
       "        vertical-align: top;\n",
       "    }\n",
       "\n",
       "    .dataframe thead th {\n",
       "        text-align: right;\n",
       "    }\n",
       "</style>\n",
       "<table border=\"1\" class=\"dataframe\">\n",
       "  <thead>\n",
       "    <tr style=\"text-align: right;\">\n",
       "      <th></th>\n",
       "      <th>日期</th>\n",
       "      <th>活动类型</th>\n",
       "      <th>用户id</th>\n",
       "      <th>课程id</th>\n",
       "      <th>活动id</th>\n",
       "    </tr>\n",
       "  </thead>\n",
       "  <tbody>\n",
       "    <tr>\n",
       "      <th>0</th>\n",
       "      <td>2022-06-15 15:09</td>\n",
       "      <td>讨论</td>\n",
       "      <td>68286748</td>\n",
       "      <td>224841013</td>\n",
       "      <td>201f62ceb08934c089e6a162c7759ac5</td>\n",
       "    </tr>\n",
       "    <tr>\n",
       "      <th>1</th>\n",
       "      <td>2022-06-15 15:10</td>\n",
       "      <td>讨论</td>\n",
       "      <td>68286748</td>\n",
       "      <td>224841013</td>\n",
       "      <td>201f62ceb08934c089e6a162c7759ac5</td>\n",
       "    </tr>\n",
       "    <tr>\n",
       "      <th>2</th>\n",
       "      <td>2022-06-15 15:15</td>\n",
       "      <td>讨论</td>\n",
       "      <td>68286748</td>\n",
       "      <td>224841013</td>\n",
       "      <td>201f62ceb08934c089e6a162c7759ac5</td>\n",
       "    </tr>\n",
       "    <tr>\n",
       "      <th>3</th>\n",
       "      <td>2022-06-15 15:20</td>\n",
       "      <td>讨论</td>\n",
       "      <td>68286748</td>\n",
       "      <td>224841013</td>\n",
       "      <td>201f62ceb08934c089e6a162c7759ac5</td>\n",
       "    </tr>\n",
       "    <tr>\n",
       "      <th>4</th>\n",
       "      <td>2022-06-15 15:24</td>\n",
       "      <td>讨论</td>\n",
       "      <td>68286748</td>\n",
       "      <td>224841013</td>\n",
       "      <td>201f62ceb08934c089e6a162c7759ac5</td>\n",
       "    </tr>\n",
       "  </tbody>\n",
       "</table>\n",
       "</div>"
      ],
      "text/plain": [
       "                 日期 活动类型      用户id       课程id  \\\n",
       "0  2022-06-15 15:09   讨论  68286748  224841013   \n",
       "1  2022-06-15 15:10   讨论  68286748  224841013   \n",
       "2  2022-06-15 15:15   讨论  68286748  224841013   \n",
       "3  2022-06-15 15:20   讨论  68286748  224841013   \n",
       "4  2022-06-15 15:24   讨论  68286748  224841013   \n",
       "\n",
       "                               活动id  \n",
       "0  201f62ceb08934c089e6a162c7759ac5  \n",
       "1  201f62ceb08934c089e6a162c7759ac5  \n",
       "2  201f62ceb08934c089e6a162c7759ac5  \n",
       "3  201f62ceb08934c089e6a162c7759ac5  \n",
       "4  201f62ceb08934c089e6a162c7759ac5  "
      ]
     },
     "execution_count": 26,
     "metadata": {},
     "output_type": "execute_result"
    }
   ],
   "source": [
    "# 数据合并\n",
    "data_bb = pd.concat([data_bbs, data_bbb[data_bbs.columns]], axis = 0)\n",
    "data_bb.reset_index(drop = True, inplace = True)\n",
    "print(data_bb.shape)\n",
    "data_bb.head()"
   ]
  },
  {
   "cell_type": "markdown",
   "id": "8dfd67c4",
   "metadata": {},
   "source": [
    "#### 数据保存"
   ]
  },
  {
   "cell_type": "code",
   "execution_count": 558,
   "id": "1296b42f",
   "metadata": {},
   "outputs": [],
   "source": [
    "data_bb.to_csv('E:/比赛/data/4.学生课堂讨论流水表.csv', index = False, encoding = 'utf_8_sig')"
   ]
  },
  {
   "cell_type": "markdown",
   "id": "38e94bd8",
   "metadata": {},
   "source": [
    "## 5. t_stat_exam_answer --> 学生考试提交记录表"
   ]
  },
  {
   "cell_type": "code",
   "execution_count": 28,
   "id": "ad71ac0e",
   "metadata": {},
   "outputs": [
    {
     "name": "stdout",
     "output_type": "stream",
     "text": [
      "(2179, 17)\n",
      "(2179, 6)\n"
     ]
    },
    {
     "name": "stderr",
     "output_type": "stream",
     "text": [
      "C:\\Users\\SUGA\\AppData\\Local\\Temp\\ipykernel_19160\\1081961814.py:98: SettingWithCopyWarning: \n",
      "A value is trying to be set on a copy of a slice from a DataFrame.\n",
      "Try using .loc[row_indexer,col_indexer] = value instead\n",
      "\n",
      "See the caveats in the documentation: https://pandas.pydata.org/pandas-docs/stable/user_guide/indexing.html#returning-a-view-versus-a-copy\n",
      "  data[i] = data[i].str.strip()\n"
     ]
    },
    {
     "data": {
      "text/html": [
       "<div>\n",
       "<style scoped>\n",
       "    .dataframe tbody tr th:only-of-type {\n",
       "        vertical-align: middle;\n",
       "    }\n",
       "\n",
       "    .dataframe tbody tr th {\n",
       "        vertical-align: top;\n",
       "    }\n",
       "\n",
       "    .dataframe thead th {\n",
       "        text-align: right;\n",
       "    }\n",
       "</style>\n",
       "<table border=\"1\" class=\"dataframe\">\n",
       "  <thead>\n",
       "    <tr style=\"text-align: right;\">\n",
       "      <th></th>\n",
       "      <th>日期</th>\n",
       "      <th>活动类型</th>\n",
       "      <th>用户id</th>\n",
       "      <th>课程id</th>\n",
       "      <th>活动id</th>\n",
       "      <th>分数</th>\n",
       "    </tr>\n",
       "  </thead>\n",
       "  <tbody>\n",
       "    <tr>\n",
       "      <th>0</th>\n",
       "      <td>2022-03-01 17:02</td>\n",
       "      <td>测验</td>\n",
       "      <td>147392291</td>\n",
       "      <td>222820410</td>\n",
       "      <td>147473875</td>\n",
       "      <td>100.0</td>\n",
       "    </tr>\n",
       "    <tr>\n",
       "      <th>1</th>\n",
       "      <td>2022-03-01 17:17</td>\n",
       "      <td>测验</td>\n",
       "      <td>111944017</td>\n",
       "      <td>222820410</td>\n",
       "      <td>147473875</td>\n",
       "      <td>100.0</td>\n",
       "    </tr>\n",
       "    <tr>\n",
       "      <th>2</th>\n",
       "      <td>2022-03-01 17:02</td>\n",
       "      <td>测验</td>\n",
       "      <td>147392786</td>\n",
       "      <td>222820410</td>\n",
       "      <td>147473875</td>\n",
       "      <td>90.0</td>\n",
       "    </tr>\n",
       "    <tr>\n",
       "      <th>3</th>\n",
       "      <td>2022-03-01 17:05</td>\n",
       "      <td>测验</td>\n",
       "      <td>111948433</td>\n",
       "      <td>222820410</td>\n",
       "      <td>147473875</td>\n",
       "      <td>90.0</td>\n",
       "    </tr>\n",
       "    <tr>\n",
       "      <th>4</th>\n",
       "      <td>2022-03-01 17:03</td>\n",
       "      <td>测验</td>\n",
       "      <td>147383116</td>\n",
       "      <td>222820410</td>\n",
       "      <td>147473875</td>\n",
       "      <td>50.0</td>\n",
       "    </tr>\n",
       "  </tbody>\n",
       "</table>\n",
       "</div>"
      ],
      "text/plain": [
       "                 日期 活动类型       用户id       课程id       活动id     分数\n",
       "0  2022-03-01 17:02   测验  147392291  222820410  147473875  100.0\n",
       "1  2022-03-01 17:17   测验  111944017  222820410  147473875  100.0\n",
       "2  2022-03-01 17:02   测验  147392786  222820410  147473875   90.0\n",
       "3  2022-03-01 17:05   测验  111948433  222820410  147473875   90.0\n",
       "4  2022-03-01 17:03   测验  147383116  222820410  147473875   50.0"
      ]
     },
     "execution_count": 28,
     "metadata": {},
     "output_type": "execute_result"
    }
   ],
   "source": [
    "df_ans = getdf(path, 't_stat_exam_answer.xls')\n",
    "data_ans = getdata(df_ans, ['answer_time', 'personid', 'courseid', 'work_id', 'score', 'status'], ['日期', '用户id', '课程id', '活动id', '分数', '提交状态'])\n",
    "data_ans = data_str_clear(data_ans)\n",
    "data_ans = dropdata_(data_ans, '用户id', perids)\n",
    "ls = data_ans[data_ans['提交状态'] == 1].index.to_list()\n",
    "data_ans.insert(1, '活动类型', '测验')\n",
    "data_ans.loc[data_ans['提交状态'] == 1, '活动类型'] = '未测'\n",
    "data_ans.loc[data_ans['提交状态'] == 1, '日期'] =  df_ans.loc[ls,'last_modify_time']\n",
    "data_ans.pop('提交状态')\n",
    "data_ans.head()"
   ]
  },
  {
   "cell_type": "code",
   "execution_count": 29,
   "id": "bcef547a",
   "metadata": {},
   "outputs": [
    {
     "data": {
      "text/html": [
       "<div>\n",
       "<style scoped>\n",
       "    .dataframe tbody tr th:only-of-type {\n",
       "        vertical-align: middle;\n",
       "    }\n",
       "\n",
       "    .dataframe tbody tr th {\n",
       "        vertical-align: top;\n",
       "    }\n",
       "\n",
       "    .dataframe thead th {\n",
       "        text-align: right;\n",
       "    }\n",
       "</style>\n",
       "<table border=\"1\" class=\"dataframe\">\n",
       "  <thead>\n",
       "    <tr style=\"text-align: right;\">\n",
       "      <th></th>\n",
       "      <th>课程id</th>\n",
       "      <th>活动id</th>\n",
       "      <th>活动名</th>\n",
       "    </tr>\n",
       "  </thead>\n",
       "  <tbody>\n",
       "    <tr>\n",
       "      <th>0</th>\n",
       "      <td>222820410</td>\n",
       "      <td>147473875</td>\n",
       "      <td>单元测试1（2022上）</td>\n",
       "    </tr>\n",
       "    <tr>\n",
       "      <th>1</th>\n",
       "      <td>222820410</td>\n",
       "      <td>147479140</td>\n",
       "      <td>单元测试2（2022上）</td>\n",
       "    </tr>\n",
       "    <tr>\n",
       "      <th>2</th>\n",
       "      <td>222820410</td>\n",
       "      <td>156228047</td>\n",
       "      <td>单元测试4（2022上）</td>\n",
       "    </tr>\n",
       "    <tr>\n",
       "      <th>3</th>\n",
       "      <td>222820410</td>\n",
       "      <td>156228261</td>\n",
       "      <td>单元测试5（2022上）</td>\n",
       "    </tr>\n",
       "    <tr>\n",
       "      <th>4</th>\n",
       "      <td>222820410</td>\n",
       "      <td>156228524</td>\n",
       "      <td>单元测试6（2022上）</td>\n",
       "    </tr>\n",
       "  </tbody>\n",
       "</table>\n",
       "</div>"
      ],
      "text/plain": [
       "        课程id       活动id           活动名\n",
       "0  222820410  147473875  单元测试1（2022上）\n",
       "1  222820410  147479140  单元测试2（2022上）\n",
       "2  222820410  156228047  单元测试4（2022上）\n",
       "3  222820410  156228261  单元测试5（2022上）\n",
       "4  222820410  156228524  单元测试6（2022上）"
      ]
     },
     "execution_count": 29,
     "metadata": {},
     "output_type": "execute_result"
    }
   ],
   "source": [
    "df_exs = pd.read_excel('data/t_stat_exam_library.xls')\n",
    "df_exres = pd.read_excel('data/t_stat_exam_relation.xls')\n",
    "data_exs = df_exs[['courseid', 'paper_library_id', 'title']]\n",
    "data_ers = df_exres[['courseid', 'paper_library_id']]\n",
    "da_exs = pd.merge(data_ers, data_exs, on = ['courseid', 'paper_library_id'])\n",
    "da_exs.columns = ['课程id', '活动id', '活动名']\n",
    "da_exs.head()"
   ]
  },
  {
   "cell_type": "code",
   "execution_count": 30,
   "id": "e1ba8707",
   "metadata": {},
   "outputs": [
    {
     "name": "stdout",
     "output_type": "stream",
     "text": [
      "(2179, 7)\n"
     ]
    },
    {
     "data": {
      "text/html": [
       "<div>\n",
       "<style scoped>\n",
       "    .dataframe tbody tr th:only-of-type {\n",
       "        vertical-align: middle;\n",
       "    }\n",
       "\n",
       "    .dataframe tbody tr th {\n",
       "        vertical-align: top;\n",
       "    }\n",
       "\n",
       "    .dataframe thead th {\n",
       "        text-align: right;\n",
       "    }\n",
       "</style>\n",
       "<table border=\"1\" class=\"dataframe\">\n",
       "  <thead>\n",
       "    <tr style=\"text-align: right;\">\n",
       "      <th></th>\n",
       "      <th>日期</th>\n",
       "      <th>活动类型</th>\n",
       "      <th>用户id</th>\n",
       "      <th>课程id</th>\n",
       "      <th>活动id</th>\n",
       "      <th>分数</th>\n",
       "      <th>活动名</th>\n",
       "    </tr>\n",
       "  </thead>\n",
       "  <tbody>\n",
       "    <tr>\n",
       "      <th>0</th>\n",
       "      <td>2022-03-01 17:02</td>\n",
       "      <td>测验</td>\n",
       "      <td>147392291</td>\n",
       "      <td>222820410</td>\n",
       "      <td>147473875</td>\n",
       "      <td>100.0</td>\n",
       "      <td>单元测试1（2022上）</td>\n",
       "    </tr>\n",
       "    <tr>\n",
       "      <th>1</th>\n",
       "      <td>2022-03-01 17:17</td>\n",
       "      <td>测验</td>\n",
       "      <td>111944017</td>\n",
       "      <td>222820410</td>\n",
       "      <td>147473875</td>\n",
       "      <td>100.0</td>\n",
       "      <td>单元测试1（2022上）</td>\n",
       "    </tr>\n",
       "    <tr>\n",
       "      <th>2</th>\n",
       "      <td>2022-03-01 17:02</td>\n",
       "      <td>测验</td>\n",
       "      <td>147392786</td>\n",
       "      <td>222820410</td>\n",
       "      <td>147473875</td>\n",
       "      <td>90.0</td>\n",
       "      <td>单元测试1（2022上）</td>\n",
       "    </tr>\n",
       "    <tr>\n",
       "      <th>3</th>\n",
       "      <td>2022-03-01 17:05</td>\n",
       "      <td>测验</td>\n",
       "      <td>111948433</td>\n",
       "      <td>222820410</td>\n",
       "      <td>147473875</td>\n",
       "      <td>90.0</td>\n",
       "      <td>单元测试1（2022上）</td>\n",
       "    </tr>\n",
       "    <tr>\n",
       "      <th>4</th>\n",
       "      <td>2022-03-01 17:03</td>\n",
       "      <td>测验</td>\n",
       "      <td>147383116</td>\n",
       "      <td>222820410</td>\n",
       "      <td>147473875</td>\n",
       "      <td>50.0</td>\n",
       "      <td>单元测试1（2022上）</td>\n",
       "    </tr>\n",
       "  </tbody>\n",
       "</table>\n",
       "</div>"
      ],
      "text/plain": [
       "                 日期 活动类型       用户id       课程id       活动id     分数           活动名\n",
       "0  2022-03-01 17:02   测验  147392291  222820410  147473875  100.0  单元测试1（2022上）\n",
       "1  2022-03-01 17:17   测验  111944017  222820410  147473875  100.0  单元测试1（2022上）\n",
       "2  2022-03-01 17:02   测验  147392786  222820410  147473875   90.0  单元测试1（2022上）\n",
       "3  2022-03-01 17:05   测验  111948433  222820410  147473875   90.0  单元测试1（2022上）\n",
       "4  2022-03-01 17:03   测验  147383116  222820410  147473875   50.0  单元测试1（2022上）"
      ]
     },
     "execution_count": 30,
     "metadata": {},
     "output_type": "execute_result"
    }
   ],
   "source": [
    "d_exs = pd.merge(data_ans, da_exs, on = ['课程id', '活动id'])\n",
    "d_exs = df_clear(d_exs)\n",
    "d_exs.reset_index(drop = True, inplace = True)\n",
    "d_exs.drop_duplicates()\n",
    "print(d_exs.shape)\n",
    "d_exs.head()"
   ]
  },
  {
   "cell_type": "markdown",
   "id": "db0d43c9",
   "metadata": {},
   "source": [
    "#### 雨课堂数据"
   ]
  },
  {
   "cell_type": "code",
   "execution_count": 31,
   "id": "93da9e6a",
   "metadata": {},
   "outputs": [
    {
     "name": "stdout",
     "output_type": "stream",
     "text": [
      "(83452, 17)\n"
     ]
    },
    {
     "data": {
      "text/html": [
       "<div>\n",
       "<style scoped>\n",
       "    .dataframe tbody tr th:only-of-type {\n",
       "        vertical-align: middle;\n",
       "    }\n",
       "\n",
       "    .dataframe tbody tr th {\n",
       "        vertical-align: top;\n",
       "    }\n",
       "\n",
       "    .dataframe thead th {\n",
       "        text-align: right;\n",
       "    }\n",
       "</style>\n",
       "<table border=\"1\" class=\"dataframe\">\n",
       "  <thead>\n",
       "    <tr style=\"text-align: right;\">\n",
       "      <th></th>\n",
       "      <th>日期</th>\n",
       "      <th>活动类型</th>\n",
       "      <th>用户id</th>\n",
       "      <th>班级id</th>\n",
       "      <th>活动id</th>\n",
       "      <th>分数</th>\n",
       "    </tr>\n",
       "  </thead>\n",
       "  <tbody>\n",
       "    <tr>\n",
       "      <th>0</th>\n",
       "      <td>2022-05-06 10:06:00</td>\n",
       "      <td>测验</td>\n",
       "      <td>28405855</td>\n",
       "      <td>8009388</td>\n",
       "      <td>210080</td>\n",
       "      <td>80.0</td>\n",
       "    </tr>\n",
       "    <tr>\n",
       "      <th>1</th>\n",
       "      <td>2021-09-15 19:30:10</td>\n",
       "      <td>测验</td>\n",
       "      <td>28406016</td>\n",
       "      <td>6137475</td>\n",
       "      <td>113289</td>\n",
       "      <td>80.0</td>\n",
       "    </tr>\n",
       "    <tr>\n",
       "      <th>2</th>\n",
       "      <td>2021-09-27 19:20:06</td>\n",
       "      <td>测验</td>\n",
       "      <td>28406016</td>\n",
       "      <td>6137475</td>\n",
       "      <td>116994</td>\n",
       "      <td>100.0</td>\n",
       "    </tr>\n",
       "    <tr>\n",
       "      <th>3</th>\n",
       "      <td>2021-09-29 19:20:10</td>\n",
       "      <td>测验</td>\n",
       "      <td>28406016</td>\n",
       "      <td>6137475</td>\n",
       "      <td>117499</td>\n",
       "      <td>60.0</td>\n",
       "    </tr>\n",
       "    <tr>\n",
       "      <th>4</th>\n",
       "      <td>2021-11-01 18:50:18</td>\n",
       "      <td>测验</td>\n",
       "      <td>28406016</td>\n",
       "      <td>6137475</td>\n",
       "      <td>128205</td>\n",
       "      <td>60.0</td>\n",
       "    </tr>\n",
       "  </tbody>\n",
       "</table>\n",
       "</div>"
      ],
      "text/plain": [
       "                    日期 活动类型      用户id     班级id    活动id     分数\n",
       "0  2022-05-06 10:06:00   测验  28405855  8009388  210080   80.0\n",
       "1  2021-09-15 19:30:10   测验  28406016  6137475  113289   80.0\n",
       "2  2021-09-27 19:20:06   测验  28406016  6137475  116994  100.0\n",
       "3  2021-09-29 19:20:10   测验  28406016  6137475  117499   60.0\n",
       "4  2021-11-01 18:50:18   测验  28406016  6137475  128205   60.0"
      ]
     },
     "execution_count": 31,
     "metadata": {},
     "output_type": "execute_result"
    }
   ],
   "source": [
    "# 雨课堂的数据\n",
    "df_anb = getdf(path, 'b1_t_stat_exam_answer.xlsx')\n",
    "data_anb = querydate(df_anb, dates[0], dates[1], ['answer_time', 'personid', 'clazzid', 'exam_id', 'score'], ['日期', '用户id', '班级id', '活动id', '分数'])\n",
    "\n",
    "# 数据清洗\n",
    "data_anb = droptead(data_anb, '用户id', peridb)\n",
    "data_anb = data_str_clear(data_anb)\n",
    "\n",
    "data_anb.insert(1, '活动类型', '测验')\n",
    "data_anb.head()"
   ]
  },
  {
   "cell_type": "code",
   "execution_count": 32,
   "id": "7cbf18e6",
   "metadata": {},
   "outputs": [
    {
     "name": "stdout",
     "output_type": "stream",
     "text": [
      "(1251, 15)\n"
     ]
    },
    {
     "data": {
      "text/html": [
       "<div>\n",
       "<style scoped>\n",
       "    .dataframe tbody tr th:only-of-type {\n",
       "        vertical-align: middle;\n",
       "    }\n",
       "\n",
       "    .dataframe tbody tr th {\n",
       "        vertical-align: top;\n",
       "    }\n",
       "\n",
       "    .dataframe thead th {\n",
       "        text-align: right;\n",
       "    }\n",
       "</style>\n",
       "<table border=\"1\" class=\"dataframe\">\n",
       "  <thead>\n",
       "    <tr style=\"text-align: right;\">\n",
       "      <th></th>\n",
       "      <th>班级id</th>\n",
       "      <th>活动id</th>\n",
       "      <th>总分</th>\n",
       "    </tr>\n",
       "  </thead>\n",
       "  <tbody>\n",
       "    <tr>\n",
       "      <th>0</th>\n",
       "      <td>5375152</td>\n",
       "      <td>100785</td>\n",
       "      <td>100.0</td>\n",
       "    </tr>\n",
       "    <tr>\n",
       "      <th>1</th>\n",
       "      <td>7245084</td>\n",
       "      <td>134795</td>\n",
       "      <td>100.0</td>\n",
       "    </tr>\n",
       "    <tr>\n",
       "      <th>2</th>\n",
       "      <td>6138605</td>\n",
       "      <td>936960</td>\n",
       "      <td>9.0</td>\n",
       "    </tr>\n",
       "    <tr>\n",
       "      <th>3</th>\n",
       "      <td>6138604</td>\n",
       "      <td>931379</td>\n",
       "      <td>9.0</td>\n",
       "    </tr>\n",
       "    <tr>\n",
       "      <th>4</th>\n",
       "      <td>6137475</td>\n",
       "      <td>114898</td>\n",
       "      <td>100.0</td>\n",
       "    </tr>\n",
       "  </tbody>\n",
       "</table>\n",
       "</div>"
      ],
      "text/plain": [
       "      班级id    活动id     总分\n",
       "0  5375152  100785  100.0\n",
       "1  7245084  134795  100.0\n",
       "2  6138605  936960    9.0\n",
       "3  6138604  931379    9.0\n",
       "4  6137475  114898  100.0"
      ]
     },
     "execution_count": 32,
     "metadata": {},
     "output_type": "execute_result"
    }
   ],
   "source": [
    "df_erb = getdf(path, 'b1_t_stat_exam_relation.xlsx')\n",
    "data_erb = querydate(df_erb, dates[0], dates[1], ['clazzid', 'exam_id', 'score'], ['班级id', '活动id', '总分'])\n",
    "data_erb.head()"
   ]
  },
  {
   "cell_type": "code",
   "execution_count": 33,
   "id": "593061d2",
   "metadata": {},
   "outputs": [
    {
     "name": "stdout",
     "output_type": "stream",
     "text": [
      "(32860, 8)\n"
     ]
    },
    {
     "data": {
      "text/html": [
       "<div>\n",
       "<style scoped>\n",
       "    .dataframe tbody tr th:only-of-type {\n",
       "        vertical-align: middle;\n",
       "    }\n",
       "\n",
       "    .dataframe tbody tr th {\n",
       "        vertical-align: top;\n",
       "    }\n",
       "\n",
       "    .dataframe thead th {\n",
       "        text-align: right;\n",
       "    }\n",
       "</style>\n",
       "<table border=\"1\" class=\"dataframe\">\n",
       "  <thead>\n",
       "    <tr style=\"text-align: right;\">\n",
       "      <th></th>\n",
       "      <th>日期</th>\n",
       "      <th>活动类型</th>\n",
       "      <th>用户id</th>\n",
       "      <th>班级id</th>\n",
       "      <th>活动id</th>\n",
       "      <th>分数</th>\n",
       "      <th>课程id</th>\n",
       "      <th>总分</th>\n",
       "    </tr>\n",
       "  </thead>\n",
       "  <tbody>\n",
       "    <tr>\n",
       "      <th>0</th>\n",
       "      <td>2022-05-06 10:06:00</td>\n",
       "      <td>测验</td>\n",
       "      <td>28405855</td>\n",
       "      <td>8009388</td>\n",
       "      <td>210080</td>\n",
       "      <td>80.0</td>\n",
       "      <td>1944089</td>\n",
       "      <td>100.0</td>\n",
       "    </tr>\n",
       "    <tr>\n",
       "      <th>1</th>\n",
       "      <td>2022-05-06 10:05:33</td>\n",
       "      <td>测验</td>\n",
       "      <td>28406687</td>\n",
       "      <td>8009388</td>\n",
       "      <td>210080</td>\n",
       "      <td>90.0</td>\n",
       "      <td>1944089</td>\n",
       "      <td>100.0</td>\n",
       "    </tr>\n",
       "    <tr>\n",
       "      <th>2</th>\n",
       "      <td>2022-05-06 10:06:00</td>\n",
       "      <td>测验</td>\n",
       "      <td>28412716</td>\n",
       "      <td>8009388</td>\n",
       "      <td>210080</td>\n",
       "      <td>100.0</td>\n",
       "      <td>1944089</td>\n",
       "      <td>100.0</td>\n",
       "    </tr>\n",
       "    <tr>\n",
       "      <th>3</th>\n",
       "      <td>2022-05-06 10:09:13</td>\n",
       "      <td>测验</td>\n",
       "      <td>28420546</td>\n",
       "      <td>8009388</td>\n",
       "      <td>210080</td>\n",
       "      <td>50.0</td>\n",
       "      <td>1944089</td>\n",
       "      <td>100.0</td>\n",
       "    </tr>\n",
       "    <tr>\n",
       "      <th>4</th>\n",
       "      <td>2022-05-06 10:05:41</td>\n",
       "      <td>测验</td>\n",
       "      <td>28428765</td>\n",
       "      <td>8009388</td>\n",
       "      <td>210080</td>\n",
       "      <td>90.0</td>\n",
       "      <td>1944089</td>\n",
       "      <td>100.0</td>\n",
       "    </tr>\n",
       "  </tbody>\n",
       "</table>\n",
       "</div>"
      ],
      "text/plain": [
       "                    日期 活动类型      用户id     班级id    活动id     分数     课程id     总分\n",
       "0  2022-05-06 10:06:00   测验  28405855  8009388  210080   80.0  1944089  100.0\n",
       "1  2022-05-06 10:05:33   测验  28406687  8009388  210080   90.0  1944089  100.0\n",
       "2  2022-05-06 10:06:00   测验  28412716  8009388  210080  100.0  1944089  100.0\n",
       "3  2022-05-06 10:09:13   测验  28420546  8009388  210080   50.0  1944089  100.0\n",
       "4  2022-05-06 10:05:41   测验  28428765  8009388  210080   90.0  1944089  100.0"
      ]
     },
     "execution_count": 33,
     "metadata": {},
     "output_type": "execute_result"
    }
   ],
   "source": [
    "data_ab = pd.merge(data_anb, data_cla, on = '班级id')\n",
    "data_ab_ = pd.merge(data_ab, data_erb, on = ['班级id', '活动id'])\n",
    "print(data_ab_.shape)\n",
    "data_ab_.head()"
   ]
  },
  {
   "cell_type": "code",
   "execution_count": 34,
   "id": "2192df4d",
   "metadata": {},
   "outputs": [],
   "source": [
    "for i in data_ab_[data_ab_['总分'] != 100]['总分'].unique():\n",
    "    data_ab_.loc[data_ab_['总分'] == i, '分数'] =  ((data_ab_.loc[data_ab_['总分'] == i, '分数'])/i) * 100"
   ]
  },
  {
   "cell_type": "code",
   "execution_count": 35,
   "id": "2aebea6c",
   "metadata": {},
   "outputs": [
    {
     "name": "stdout",
     "output_type": "stream",
     "text": [
      "(32860, 6)\n"
     ]
    },
    {
     "data": {
      "text/html": [
       "<div>\n",
       "<style scoped>\n",
       "    .dataframe tbody tr th:only-of-type {\n",
       "        vertical-align: middle;\n",
       "    }\n",
       "\n",
       "    .dataframe tbody tr th {\n",
       "        vertical-align: top;\n",
       "    }\n",
       "\n",
       "    .dataframe thead th {\n",
       "        text-align: right;\n",
       "    }\n",
       "</style>\n",
       "<table border=\"1\" class=\"dataframe\">\n",
       "  <thead>\n",
       "    <tr style=\"text-align: right;\">\n",
       "      <th></th>\n",
       "      <th>日期</th>\n",
       "      <th>活动类型</th>\n",
       "      <th>用户id</th>\n",
       "      <th>课程id</th>\n",
       "      <th>活动id</th>\n",
       "      <th>分数</th>\n",
       "    </tr>\n",
       "  </thead>\n",
       "  <tbody>\n",
       "    <tr>\n",
       "      <th>0</th>\n",
       "      <td>2022-05-06 10:06:00</td>\n",
       "      <td>测验</td>\n",
       "      <td>28405855</td>\n",
       "      <td>1944089</td>\n",
       "      <td>210080</td>\n",
       "      <td>80.0</td>\n",
       "    </tr>\n",
       "    <tr>\n",
       "      <th>1</th>\n",
       "      <td>2022-05-06 10:05:33</td>\n",
       "      <td>测验</td>\n",
       "      <td>28406687</td>\n",
       "      <td>1944089</td>\n",
       "      <td>210080</td>\n",
       "      <td>90.0</td>\n",
       "    </tr>\n",
       "    <tr>\n",
       "      <th>2</th>\n",
       "      <td>2022-05-06 10:06:00</td>\n",
       "      <td>测验</td>\n",
       "      <td>28412716</td>\n",
       "      <td>1944089</td>\n",
       "      <td>210080</td>\n",
       "      <td>100.0</td>\n",
       "    </tr>\n",
       "    <tr>\n",
       "      <th>3</th>\n",
       "      <td>2022-05-06 10:09:13</td>\n",
       "      <td>测验</td>\n",
       "      <td>28420546</td>\n",
       "      <td>1944089</td>\n",
       "      <td>210080</td>\n",
       "      <td>50.0</td>\n",
       "    </tr>\n",
       "    <tr>\n",
       "      <th>4</th>\n",
       "      <td>2022-05-06 10:05:41</td>\n",
       "      <td>测验</td>\n",
       "      <td>28428765</td>\n",
       "      <td>1944089</td>\n",
       "      <td>210080</td>\n",
       "      <td>90.0</td>\n",
       "    </tr>\n",
       "  </tbody>\n",
       "</table>\n",
       "</div>"
      ],
      "text/plain": [
       "                    日期 活动类型      用户id     课程id    活动id     分数\n",
       "0  2022-05-06 10:06:00   测验  28405855  1944089  210080   80.0\n",
       "1  2022-05-06 10:05:33   测验  28406687  1944089  210080   90.0\n",
       "2  2022-05-06 10:06:00   测验  28412716  1944089  210080  100.0\n",
       "3  2022-05-06 10:09:13   测验  28420546  1944089  210080   50.0\n",
       "4  2022-05-06 10:05:41   测验  28428765  1944089  210080   90.0"
      ]
     },
     "execution_count": 35,
     "metadata": {},
     "output_type": "execute_result"
    }
   ],
   "source": [
    "data_nab = data_ab_[['日期', '活动类型', '用户id', '课程id', '活动id', '分数']]\n",
    "print(data_nab.shape)\n",
    "data_nab.head()"
   ]
  },
  {
   "cell_type": "markdown",
   "id": "a2c0de6d",
   "metadata": {},
   "source": [
    "#### 数据合并"
   ]
  },
  {
   "cell_type": "code",
   "execution_count": 36,
   "id": "a3b5e25a",
   "metadata": {},
   "outputs": [
    {
     "name": "stdout",
     "output_type": "stream",
     "text": [
      "(35039, 6)\n"
     ]
    },
    {
     "data": {
      "text/html": [
       "<div>\n",
       "<style scoped>\n",
       "    .dataframe tbody tr th:only-of-type {\n",
       "        vertical-align: middle;\n",
       "    }\n",
       "\n",
       "    .dataframe tbody tr th {\n",
       "        vertical-align: top;\n",
       "    }\n",
       "\n",
       "    .dataframe thead th {\n",
       "        text-align: right;\n",
       "    }\n",
       "</style>\n",
       "<table border=\"1\" class=\"dataframe\">\n",
       "  <thead>\n",
       "    <tr style=\"text-align: right;\">\n",
       "      <th></th>\n",
       "      <th>日期</th>\n",
       "      <th>活动类型</th>\n",
       "      <th>用户id</th>\n",
       "      <th>课程id</th>\n",
       "      <th>活动id</th>\n",
       "      <th>分数</th>\n",
       "    </tr>\n",
       "  </thead>\n",
       "  <tbody>\n",
       "    <tr>\n",
       "      <th>0</th>\n",
       "      <td>2022-03-01 17:02</td>\n",
       "      <td>测验</td>\n",
       "      <td>147392291</td>\n",
       "      <td>222820410</td>\n",
       "      <td>147473875</td>\n",
       "      <td>100.0</td>\n",
       "    </tr>\n",
       "    <tr>\n",
       "      <th>1</th>\n",
       "      <td>2022-03-01 17:17</td>\n",
       "      <td>测验</td>\n",
       "      <td>111944017</td>\n",
       "      <td>222820410</td>\n",
       "      <td>147473875</td>\n",
       "      <td>100.0</td>\n",
       "    </tr>\n",
       "    <tr>\n",
       "      <th>2</th>\n",
       "      <td>2022-03-01 17:02</td>\n",
       "      <td>测验</td>\n",
       "      <td>147392786</td>\n",
       "      <td>222820410</td>\n",
       "      <td>147473875</td>\n",
       "      <td>90.0</td>\n",
       "    </tr>\n",
       "    <tr>\n",
       "      <th>3</th>\n",
       "      <td>2022-03-01 17:05</td>\n",
       "      <td>测验</td>\n",
       "      <td>111948433</td>\n",
       "      <td>222820410</td>\n",
       "      <td>147473875</td>\n",
       "      <td>90.0</td>\n",
       "    </tr>\n",
       "    <tr>\n",
       "      <th>4</th>\n",
       "      <td>2022-03-01 17:03</td>\n",
       "      <td>测验</td>\n",
       "      <td>147383116</td>\n",
       "      <td>222820410</td>\n",
       "      <td>147473875</td>\n",
       "      <td>50.0</td>\n",
       "    </tr>\n",
       "  </tbody>\n",
       "</table>\n",
       "</div>"
      ],
      "text/plain": [
       "                 日期 活动类型       用户id       课程id       活动id     分数\n",
       "0  2022-03-01 17:02   测验  147392291  222820410  147473875  100.0\n",
       "1  2022-03-01 17:17   测验  111944017  222820410  147473875  100.0\n",
       "2  2022-03-01 17:02   测验  147392786  222820410  147473875   90.0\n",
       "3  2022-03-01 17:05   测验  111948433  222820410  147473875   90.0\n",
       "4  2022-03-01 17:03   测验  147383116  222820410  147473875   50.0"
      ]
     },
     "execution_count": 36,
     "metadata": {},
     "output_type": "execute_result"
    }
   ],
   "source": [
    "# 数据合并\n",
    "data_an = pd.concat([data_ans, data_nab], axis = 0)\n",
    "data_an.reset_index(drop = True, inplace = True)\n",
    "print(data_an.shape)\n",
    "data_an.head()"
   ]
  },
  {
   "cell_type": "markdown",
   "id": "19274223",
   "metadata": {},
   "source": [
    "## 6. t_stat_course --> 课程表"
   ]
  },
  {
   "cell_type": "code",
   "execution_count": 37,
   "id": "beb630ce",
   "metadata": {},
   "outputs": [
    {
     "name": "stdout",
     "output_type": "stream",
     "text": [
      "(20, 12)\n",
      "(20, 3)\n"
     ]
    },
    {
     "name": "stderr",
     "output_type": "stream",
     "text": [
      "C:\\Users\\SUGA\\AppData\\Local\\Temp\\ipykernel_19160\\1081961814.py:98: SettingWithCopyWarning: \n",
      "A value is trying to be set on a copy of a slice from a DataFrame.\n",
      "Try using .loc[row_indexer,col_indexer] = value instead\n",
      "\n",
      "See the caveats in the documentation: https://pandas.pydata.org/pandas-docs/stable/user_guide/indexing.html#returning-a-view-versus-a-copy\n",
      "  data[i] = data[i].str.strip()\n"
     ]
    },
    {
     "data": {
      "text/html": [
       "<div>\n",
       "<style scoped>\n",
       "    .dataframe tbody tr th:only-of-type {\n",
       "        vertical-align: middle;\n",
       "    }\n",
       "\n",
       "    .dataframe tbody tr th {\n",
       "        vertical-align: top;\n",
       "    }\n",
       "\n",
       "    .dataframe thead th {\n",
       "        text-align: right;\n",
       "    }\n",
       "</style>\n",
       "<table border=\"1\" class=\"dataframe\">\n",
       "  <thead>\n",
       "    <tr style=\"text-align: right;\">\n",
       "      <th></th>\n",
       "      <th>课程id</th>\n",
       "      <th>课程名</th>\n",
       "      <th>课程章节数</th>\n",
       "    </tr>\n",
       "  </thead>\n",
       "  <tbody>\n",
       "    <tr>\n",
       "      <th>0</th>\n",
       "      <td>222595437</td>\n",
       "      <td>岩溶水文地质学</td>\n",
       "      <td>5</td>\n",
       "    </tr>\n",
       "    <tr>\n",
       "      <th>1</th>\n",
       "      <td>222602451</td>\n",
       "      <td>液压传动</td>\n",
       "      <td>71</td>\n",
       "    </tr>\n",
       "    <tr>\n",
       "      <th>2</th>\n",
       "      <td>222652756</td>\n",
       "      <td>高等数学B2</td>\n",
       "      <td>5</td>\n",
       "    </tr>\n",
       "    <tr>\n",
       "      <th>3</th>\n",
       "      <td>222675513</td>\n",
       "      <td>水力学</td>\n",
       "      <td>98</td>\n",
       "    </tr>\n",
       "    <tr>\n",
       "      <th>4</th>\n",
       "      <td>222760546</td>\n",
       "      <td>智能传感与检测技术</td>\n",
       "      <td>36</td>\n",
       "    </tr>\n",
       "  </tbody>\n",
       "</table>\n",
       "</div>"
      ],
      "text/plain": [
       "        课程id        课程名  课程章节数\n",
       "0  222595437    岩溶水文地质学      5\n",
       "1  222602451       液压传动     71\n",
       "2  222652756     高等数学B2      5\n",
       "3  222675513        水力学     98\n",
       "4  222760546  智能传感与检测技术     36"
      ]
     },
     "execution_count": 37,
     "metadata": {},
     "output_type": "execute_result"
    }
   ],
   "source": [
    "df_cs = getdf(path, 't_stat_course.xls')\n",
    "data_cs = getdata(df_cs, ['courseid', 'name', 'chapter_count'], ['课程id', '课程名', '课程章节数'])\n",
    "data_cs = data_str_clear(data_cs)\n",
    "data_cs.head()"
   ]
  },
  {
   "cell_type": "markdown",
   "id": "84251690",
   "metadata": {},
   "source": [
    "#### 雨课堂数据"
   ]
  },
  {
   "cell_type": "code",
   "execution_count": 38,
   "id": "f173fd67",
   "metadata": {},
   "outputs": [
    {
     "name": "stdout",
     "output_type": "stream",
     "text": [
      "(3888, 12)\n"
     ]
    },
    {
     "data": {
      "text/html": [
       "<div>\n",
       "<style scoped>\n",
       "    .dataframe tbody tr th:only-of-type {\n",
       "        vertical-align: middle;\n",
       "    }\n",
       "\n",
       "    .dataframe tbody tr th {\n",
       "        vertical-align: top;\n",
       "    }\n",
       "\n",
       "    .dataframe thead th {\n",
       "        text-align: right;\n",
       "    }\n",
       "</style>\n",
       "<table border=\"1\" class=\"dataframe\">\n",
       "  <thead>\n",
       "    <tr style=\"text-align: right;\">\n",
       "      <th></th>\n",
       "      <th>课程id</th>\n",
       "      <th>课程名</th>\n",
       "    </tr>\n",
       "  </thead>\n",
       "  <tbody>\n",
       "    <tr>\n",
       "      <th>0</th>\n",
       "      <td>1763844</td>\n",
       "      <td>中西科幻影视文学欣赏</td>\n",
       "    </tr>\n",
       "    <tr>\n",
       "      <th>1</th>\n",
       "      <td>1763852</td>\n",
       "      <td>形体训练与健美</td>\n",
       "    </tr>\n",
       "    <tr>\n",
       "      <th>2</th>\n",
       "      <td>1763853</td>\n",
       "      <td>户外救援</td>\n",
       "    </tr>\n",
       "    <tr>\n",
       "      <th>3</th>\n",
       "      <td>1763854</td>\n",
       "      <td>户外运动组织与管理</td>\n",
       "    </tr>\n",
       "    <tr>\n",
       "      <th>4</th>\n",
       "      <td>1763857</td>\n",
       "      <td>运动生理学</td>\n",
       "    </tr>\n",
       "  </tbody>\n",
       "</table>\n",
       "</div>"
      ],
      "text/plain": [
       "      课程id         课程名\n",
       "0  1763844  中西科幻影视文学欣赏\n",
       "1  1763852     形体训练与健美\n",
       "2  1763853        户外救援\n",
       "3  1763854   户外运动组织与管理\n",
       "4  1763857       运动生理学"
      ]
     },
     "execution_count": 38,
     "metadata": {},
     "output_type": "execute_result"
    }
   ],
   "source": [
    "df_cb = getdf(path, 'b1_t_stat_course.xlsx')\n",
    "data_cb = querydate(df_cb, dates[0], dates[1], ['courseid','name'], ['课程id', '课程名'])\n",
    "data_cb.head()"
   ]
  },
  {
   "cell_type": "markdown",
   "id": "edac1a4f",
   "metadata": {},
   "source": [
    "#### 数据合并"
   ]
  },
  {
   "cell_type": "code",
   "execution_count": 39,
   "id": "c383f984",
   "metadata": {
    "scrolled": true
   },
   "outputs": [
    {
     "data": {
      "text/html": [
       "<div>\n",
       "<style scoped>\n",
       "    .dataframe tbody tr th:only-of-type {\n",
       "        vertical-align: middle;\n",
       "    }\n",
       "\n",
       "    .dataframe tbody tr th {\n",
       "        vertical-align: top;\n",
       "    }\n",
       "\n",
       "    .dataframe thead th {\n",
       "        text-align: right;\n",
       "    }\n",
       "</style>\n",
       "<table border=\"1\" class=\"dataframe\">\n",
       "  <thead>\n",
       "    <tr style=\"text-align: right;\">\n",
       "      <th></th>\n",
       "      <th>课程id</th>\n",
       "      <th>课程名</th>\n",
       "    </tr>\n",
       "  </thead>\n",
       "  <tbody>\n",
       "    <tr>\n",
       "      <th>0</th>\n",
       "      <td>222595437</td>\n",
       "      <td>岩溶水文地质学</td>\n",
       "    </tr>\n",
       "    <tr>\n",
       "      <th>1</th>\n",
       "      <td>222602451</td>\n",
       "      <td>液压传动</td>\n",
       "    </tr>\n",
       "    <tr>\n",
       "      <th>2</th>\n",
       "      <td>222652756</td>\n",
       "      <td>高等数学B2</td>\n",
       "    </tr>\n",
       "    <tr>\n",
       "      <th>3</th>\n",
       "      <td>222675513</td>\n",
       "      <td>水力学</td>\n",
       "    </tr>\n",
       "    <tr>\n",
       "      <th>4</th>\n",
       "      <td>222760546</td>\n",
       "      <td>智能传感与检测技术</td>\n",
       "    </tr>\n",
       "  </tbody>\n",
       "</table>\n",
       "</div>"
      ],
      "text/plain": [
       "        课程id        课程名\n",
       "0  222595437    岩溶水文地质学\n",
       "1  222602451       液压传动\n",
       "2  222652756     高等数学B2\n",
       "3  222675513        水力学\n",
       "4  222760546  智能传感与检测技术"
      ]
     },
     "execution_count": 39,
     "metadata": {},
     "output_type": "execute_result"
    }
   ],
   "source": [
    "data_c = pd.concat([data_cs[['课程id', '课程名']], data_cb], axis = 0)\n",
    "data_c.reset_index(drop = True, inplace = True)\n",
    "data_c.head()"
   ]
  },
  {
   "cell_type": "code",
   "execution_count": 40,
   "id": "0528af11",
   "metadata": {},
   "outputs": [
    {
     "name": "stdout",
     "output_type": "stream",
     "text": [
      "(32881, 7)\n"
     ]
    },
    {
     "data": {
      "text/html": [
       "<div>\n",
       "<style scoped>\n",
       "    .dataframe tbody tr th:only-of-type {\n",
       "        vertical-align: middle;\n",
       "    }\n",
       "\n",
       "    .dataframe tbody tr th {\n",
       "        vertical-align: top;\n",
       "    }\n",
       "\n",
       "    .dataframe thead th {\n",
       "        text-align: right;\n",
       "    }\n",
       "</style>\n",
       "<table border=\"1\" class=\"dataframe\">\n",
       "  <thead>\n",
       "    <tr style=\"text-align: right;\">\n",
       "      <th></th>\n",
       "      <th>日期</th>\n",
       "      <th>活动类型</th>\n",
       "      <th>用户id</th>\n",
       "      <th>课程id</th>\n",
       "      <th>活动id</th>\n",
       "      <th>分数</th>\n",
       "      <th>课程名</th>\n",
       "    </tr>\n",
       "  </thead>\n",
       "  <tbody>\n",
       "    <tr>\n",
       "      <th>0</th>\n",
       "      <td>2022-03-01 17:02</td>\n",
       "      <td>测验</td>\n",
       "      <td>147392291</td>\n",
       "      <td>222820410</td>\n",
       "      <td>147473875</td>\n",
       "      <td>100.0</td>\n",
       "      <td>数据库原理</td>\n",
       "    </tr>\n",
       "    <tr>\n",
       "      <th>1</th>\n",
       "      <td>2022-03-01 17:17</td>\n",
       "      <td>测验</td>\n",
       "      <td>111944017</td>\n",
       "      <td>222820410</td>\n",
       "      <td>147473875</td>\n",
       "      <td>100.0</td>\n",
       "      <td>数据库原理</td>\n",
       "    </tr>\n",
       "    <tr>\n",
       "      <th>2</th>\n",
       "      <td>2022-03-01 17:02</td>\n",
       "      <td>测验</td>\n",
       "      <td>147392786</td>\n",
       "      <td>222820410</td>\n",
       "      <td>147473875</td>\n",
       "      <td>90.0</td>\n",
       "      <td>数据库原理</td>\n",
       "    </tr>\n",
       "    <tr>\n",
       "      <th>3</th>\n",
       "      <td>2022-03-01 17:05</td>\n",
       "      <td>测验</td>\n",
       "      <td>111948433</td>\n",
       "      <td>222820410</td>\n",
       "      <td>147473875</td>\n",
       "      <td>90.0</td>\n",
       "      <td>数据库原理</td>\n",
       "    </tr>\n",
       "    <tr>\n",
       "      <th>4</th>\n",
       "      <td>2022-03-01 17:03</td>\n",
       "      <td>测验</td>\n",
       "      <td>147383116</td>\n",
       "      <td>222820410</td>\n",
       "      <td>147473875</td>\n",
       "      <td>50.0</td>\n",
       "      <td>数据库原理</td>\n",
       "    </tr>\n",
       "  </tbody>\n",
       "</table>\n",
       "</div>"
      ],
      "text/plain": [
       "                 日期 活动类型       用户id       课程id       活动id     分数    课程名\n",
       "0  2022-03-01 17:02   测验  147392291  222820410  147473875  100.0  数据库原理\n",
       "1  2022-03-01 17:17   测验  111944017  222820410  147473875  100.0  数据库原理\n",
       "2  2022-03-01 17:02   测验  147392786  222820410  147473875   90.0  数据库原理\n",
       "3  2022-03-01 17:05   测验  111948433  222820410  147473875   90.0  数据库原理\n",
       "4  2022-03-01 17:03   测验  147383116  222820410  147473875   50.0  数据库原理"
      ]
     },
     "execution_count": 40,
     "metadata": {},
     "output_type": "execute_result"
    }
   ],
   "source": [
    "data_exam = pd.merge(data_an, data_c, on = '课程id')\n",
    "data_exam.reset_index(drop = True, inplace = True)\n",
    "print(data_exam.shape)\n",
    "data_exam.head()"
   ]
  },
  {
   "cell_type": "code",
   "execution_count": 560,
   "id": "81ffd98c",
   "metadata": {},
   "outputs": [
    {
     "name": "stdout",
     "output_type": "stream",
     "text": [
      "(2179, 8)\n"
     ]
    }
   ],
   "source": [
    "data_exams = pd.merge(data_ans, data_cs, on = '课程id')\n",
    "print(data_exams.shape)"
   ]
  },
  {
   "cell_type": "markdown",
   "id": "0927ed48",
   "metadata": {},
   "source": [
    "#### 数据保存"
   ]
  },
  {
   "cell_type": "code",
   "execution_count": 562,
   "id": "8eb98292",
   "metadata": {},
   "outputs": [],
   "source": [
    "data_exams.to_csv('E:/比赛/data/2.课程测验成绩表_1.csv', index = False, encoding = 'utf_8_sig')\n",
    "data_exam.to_csv('E:/比赛/data/2.课程测验成绩表.csv', index = False, encoding = 'utf_8_sig')"
   ]
  },
  {
   "cell_type": "markdown",
   "id": "c018a832",
   "metadata": {},
   "source": [
    "### 查看每个课程的每场测试的平均分以及平均花费时长（不考虑未测的分数）"
   ]
  },
  {
   "cell_type": "code",
   "execution_count": 43,
   "id": "779ab35a",
   "metadata": {},
   "outputs": [
    {
     "data": {
      "text/plain": [
       "课程名       活动id     \n",
       "C语言程序设计B  142500        0.000000\n",
       "          142501        0.000000\n",
       "          142502        0.000000\n",
       "中级财务会计    169391       72.135135\n",
       "人工智能      889666       78.574542\n",
       "                         ...    \n",
       "高等数学B2    153837531    82.371542\n",
       "          158710294    76.269841\n",
       "          159733484    64.326531\n",
       "          161961395    65.047233\n",
       "          167770391    71.792829\n",
       "Name: 分数, Length: 557, dtype: float64"
      ]
     },
     "execution_count": 43,
     "metadata": {},
     "output_type": "execute_result"
    }
   ],
   "source": [
    "# d_ex[d_ex['活动类型'] == '测验'].groupby(['课程id', '活动名'])[['分数', '参与时长']].mean()\n",
    "data_exam[data_exam['活动类型'] == '测验'].groupby(['课程名', '活动id'])['分数'].mean()"
   ]
  },
  {
   "cell_type": "markdown",
   "id": "6a9d527e",
   "metadata": {},
   "source": [
    "### 查看每个课程的每个测验的参与情况（未测人数）"
   ]
  },
  {
   "cell_type": "code",
   "execution_count": 44,
   "id": "a0f13476",
   "metadata": {},
   "outputs": [
    {
     "data": {
      "text/plain": [
       "课程id       活动名         \n",
       "222652756  向量代数与空间解析几何     3\n",
       "           多元函数微分法及其应用     3\n",
       "           微分方程            7\n",
       "           无穷级数            9\n",
       "           曲线积分与曲面积分       2\n",
       "           重积分             2\n",
       "222820410  单元测试2（2022上）    1\n",
       "224894458  数学实验测试          3\n",
       "Name: 用户id, dtype: int64"
      ]
     },
     "execution_count": 44,
     "metadata": {},
     "output_type": "execute_result"
    }
   ],
   "source": [
    "d_exs[d_exs['活动类型'] == '未测'].groupby(['课程id', '活动名'])['用户id'].count()"
   ]
  },
  {
   "cell_type": "markdown",
   "id": "3bf8fdd7",
   "metadata": {},
   "source": [
    "## 7. t_stat_job_finish --> 任务点完成记录表"
   ]
  },
  {
   "cell_type": "code",
   "execution_count": 45,
   "id": "450cd9cd",
   "metadata": {},
   "outputs": [
    {
     "name": "stdout",
     "output_type": "stream",
     "text": [
      "(2706, 9)\n",
      "(2706, 4)\n",
      "(2706, 4)\n"
     ]
    },
    {
     "data": {
      "text/html": [
       "<div>\n",
       "<style scoped>\n",
       "    .dataframe tbody tr th:only-of-type {\n",
       "        vertical-align: middle;\n",
       "    }\n",
       "\n",
       "    .dataframe tbody tr th {\n",
       "        vertical-align: top;\n",
       "    }\n",
       "\n",
       "    .dataframe thead th {\n",
       "        text-align: right;\n",
       "    }\n",
       "</style>\n",
       "<table border=\"1\" class=\"dataframe\">\n",
       "  <thead>\n",
       "    <tr style=\"text-align: right;\">\n",
       "      <th></th>\n",
       "      <th>日期</th>\n",
       "      <th>用户id</th>\n",
       "      <th>课程id</th>\n",
       "      <th>活动id</th>\n",
       "    </tr>\n",
       "  </thead>\n",
       "  <tbody>\n",
       "    <tr>\n",
       "      <th>0</th>\n",
       "      <td>2022-02-24 20:39</td>\n",
       "      <td>147393474</td>\n",
       "      <td>222675513</td>\n",
       "      <td>1546839266729278</td>\n",
       "    </tr>\n",
       "    <tr>\n",
       "      <th>1</th>\n",
       "      <td>2022-02-24 20:54</td>\n",
       "      <td>147393474</td>\n",
       "      <td>222675513</td>\n",
       "      <td>1546839285359511</td>\n",
       "    </tr>\n",
       "    <tr>\n",
       "      <th>2</th>\n",
       "      <td>2022-02-24 21:02</td>\n",
       "      <td>147393474</td>\n",
       "      <td>222675513</td>\n",
       "      <td>1547524697809789</td>\n",
       "    </tr>\n",
       "    <tr>\n",
       "      <th>3</th>\n",
       "      <td>2022-02-24 21:04</td>\n",
       "      <td>147393474</td>\n",
       "      <td>222675513</td>\n",
       "      <td>1581777300573602</td>\n",
       "    </tr>\n",
       "    <tr>\n",
       "      <th>4</th>\n",
       "      <td>2022-02-24 21:15</td>\n",
       "      <td>147393474</td>\n",
       "      <td>222675513</td>\n",
       "      <td>1546837277339979</td>\n",
       "    </tr>\n",
       "  </tbody>\n",
       "</table>\n",
       "</div>"
      ],
      "text/plain": [
       "                 日期       用户id       课程id              活动id\n",
       "0  2022-02-24 20:39  147393474  222675513  1546839266729278\n",
       "1  2022-02-24 20:54  147393474  222675513  1546839285359511\n",
       "2  2022-02-24 21:02  147393474  222675513  1547524697809789\n",
       "3  2022-02-24 21:04  147393474  222675513  1581777300573602\n",
       "4  2022-02-24 21:15  147393474  222675513  1546837277339979"
      ]
     },
     "execution_count": 45,
     "metadata": {},
     "output_type": "execute_result"
    }
   ],
   "source": [
    "# 超星数据\n",
    "df_jfs = getdf(path, 't_stat_job_finish.xls')\n",
    "data_jfs = getdata(df_jfs, df_jfs.columns[3:-2].values, ['日期', '用户id', '课程id', '活动id'])\n",
    "data_jfs = dropdata_(data_jfs, '用户id', perids)\n",
    "data_jfs.drop_duplicates(inplace = True)\n",
    "print(data_jfs.shape)\n",
    "data_jfs.head()"
   ]
  },
  {
   "cell_type": "markdown",
   "id": "610738cc",
   "metadata": {},
   "source": [
    "## 8. t_stat_course_job --> 课程任务表\n",
    "### 147 行 10 列"
   ]
  },
  {
   "cell_type": "code",
   "execution_count": 46,
   "id": "143ac505",
   "metadata": {},
   "outputs": [
    {
     "name": "stdout",
     "output_type": "stream",
     "text": [
      "(147, 10)\n",
      "(147, 4)\n",
      "(147, 4)\n"
     ]
    },
    {
     "name": "stderr",
     "output_type": "stream",
     "text": [
      "C:\\Users\\SUGA\\AppData\\Local\\Temp\\ipykernel_19160\\1081961814.py:98: SettingWithCopyWarning: \n",
      "A value is trying to be set on a copy of a slice from a DataFrame.\n",
      "Try using .loc[row_indexer,col_indexer] = value instead\n",
      "\n",
      "See the caveats in the documentation: https://pandas.pydata.org/pandas-docs/stable/user_guide/indexing.html#returning-a-view-versus-a-copy\n",
      "  data[i] = data[i].str.strip()\n",
      "C:\\Users\\SUGA\\AppData\\Local\\Temp\\ipykernel_19160\\3320121937.py:4: SettingWithCopyWarning: \n",
      "A value is trying to be set on a copy of a slice from a DataFrame\n",
      "\n",
      "See the caveats in the documentation: https://pandas.pydata.org/pandas-docs/stable/user_guide/indexing.html#returning-a-view-versus-a-copy\n",
      "  data_cjs.drop_duplicates(inplace = True)\n"
     ]
    },
    {
     "data": {
      "text/html": [
       "<div>\n",
       "<style scoped>\n",
       "    .dataframe tbody tr th:only-of-type {\n",
       "        vertical-align: middle;\n",
       "    }\n",
       "\n",
       "    .dataframe tbody tr th {\n",
       "        vertical-align: top;\n",
       "    }\n",
       "\n",
       "    .dataframe thead th {\n",
       "        text-align: right;\n",
       "    }\n",
       "</style>\n",
       "<table border=\"1\" class=\"dataframe\">\n",
       "  <thead>\n",
       "    <tr style=\"text-align: right;\">\n",
       "      <th></th>\n",
       "      <th>活动id</th>\n",
       "      <th>任务点名称</th>\n",
       "      <th>任务点类型</th>\n",
       "      <th>课程id</th>\n",
       "    </tr>\n",
       "  </thead>\n",
       "  <tbody>\n",
       "    <tr>\n",
       "      <th>0</th>\n",
       "      <td>1582119916176884</td>\n",
       "      <td>8.1堰流.mp4</td>\n",
       "      <td>VideoAttachment</td>\n",
       "      <td>222675513</td>\n",
       "    </tr>\n",
       "    <tr>\n",
       "      <th>1</th>\n",
       "      <td>1546839456877215</td>\n",
       "      <td>2.1静压强及其特性.mp4</td>\n",
       "      <td>VideoAttachment</td>\n",
       "      <td>222675513</td>\n",
       "    </tr>\n",
       "    <tr>\n",
       "      <th>2</th>\n",
       "      <td>154684034029472</td>\n",
       "      <td>3.1 液体运动的描述方法.mp4</td>\n",
       "      <td>VideoAttachment</td>\n",
       "      <td>222675513</td>\n",
       "    </tr>\n",
       "    <tr>\n",
       "      <th>3</th>\n",
       "      <td>1582119043467238</td>\n",
       "      <td>4.1 液流阻力和水头损失分类及计算公式.mp4</td>\n",
       "      <td>VideoAttachment</td>\n",
       "      <td>222675513</td>\n",
       "    </tr>\n",
       "    <tr>\n",
       "      <th>4</th>\n",
       "      <td>1546842378053993</td>\n",
       "      <td>量纲和谐原理.mp4</td>\n",
       "      <td>VideoAttachment</td>\n",
       "      <td>222675513</td>\n",
       "    </tr>\n",
       "  </tbody>\n",
       "</table>\n",
       "</div>"
      ],
      "text/plain": [
       "               活动id                     任务点名称            任务点类型       课程id\n",
       "0  1582119916176884                 8.1堰流.mp4  VideoAttachment  222675513\n",
       "1  1546839456877215            2.1静压强及其特性.mp4  VideoAttachment  222675513\n",
       "2   154684034029472         3.1 液体运动的描述方法.mp4  VideoAttachment  222675513\n",
       "3  1582119043467238  4.1 液流阻力和水头损失分类及计算公式.mp4  VideoAttachment  222675513\n",
       "4  1546842378053993                量纲和谐原理.mp4  VideoAttachment  222675513"
      ]
     },
     "execution_count": 46,
     "metadata": {},
     "output_type": "execute_result"
    }
   ],
   "source": [
    "df_cjs = getdf(path, 't_stat_course_job.xls')\n",
    "data_cjs = getdata(df_cjs, ['job_id', 'name', 'type', 'courseid'], ['活动id', '任务点名称', '任务点类型', '课程id'])\n",
    "data_cjs = data_str_clear(data_cjs)\n",
    "data_cjs.drop_duplicates(inplace = True)\n",
    "print(data_cjs.shape)\n",
    "data_cjs.head()"
   ]
  },
  {
   "cell_type": "markdown",
   "id": "35b91964",
   "metadata": {},
   "source": [
    "#### 数据合并"
   ]
  },
  {
   "cell_type": "code",
   "execution_count": 47,
   "id": "eb86fa33",
   "metadata": {},
   "outputs": [
    {
     "name": "stdout",
     "output_type": "stream",
     "text": [
      "(2706, 7)\n"
     ]
    },
    {
     "data": {
      "text/html": [
       "<div>\n",
       "<style scoped>\n",
       "    .dataframe tbody tr th:only-of-type {\n",
       "        vertical-align: middle;\n",
       "    }\n",
       "\n",
       "    .dataframe tbody tr th {\n",
       "        vertical-align: top;\n",
       "    }\n",
       "\n",
       "    .dataframe thead th {\n",
       "        text-align: right;\n",
       "    }\n",
       "</style>\n",
       "<table border=\"1\" class=\"dataframe\">\n",
       "  <thead>\n",
       "    <tr style=\"text-align: right;\">\n",
       "      <th></th>\n",
       "      <th>日期</th>\n",
       "      <th>活动类型</th>\n",
       "      <th>用户id</th>\n",
       "      <th>课程id</th>\n",
       "      <th>活动id</th>\n",
       "      <th>任务点名称</th>\n",
       "      <th>任务点类型</th>\n",
       "    </tr>\n",
       "  </thead>\n",
       "  <tbody>\n",
       "    <tr>\n",
       "      <th>0</th>\n",
       "      <td>2022-02-24 20:39</td>\n",
       "      <td>完成任务点</td>\n",
       "      <td>147393474</td>\n",
       "      <td>222675513</td>\n",
       "      <td>1546839266729278</td>\n",
       "      <td>1.2.1 液体的易流动性与惯性.mp4</td>\n",
       "      <td>VideoAttachment</td>\n",
       "    </tr>\n",
       "    <tr>\n",
       "      <th>1</th>\n",
       "      <td>2022-02-25 15:28</td>\n",
       "      <td>完成任务点</td>\n",
       "      <td>147389380</td>\n",
       "      <td>222675513</td>\n",
       "      <td>1546839266729278</td>\n",
       "      <td>1.2.1 液体的易流动性与惯性.mp4</td>\n",
       "      <td>VideoAttachment</td>\n",
       "    </tr>\n",
       "    <tr>\n",
       "      <th>2</th>\n",
       "      <td>2022-02-24 20:54</td>\n",
       "      <td>完成任务点</td>\n",
       "      <td>147393474</td>\n",
       "      <td>222675513</td>\n",
       "      <td>1546839285359511</td>\n",
       "      <td>1.2.2 液体的粘性.mp4</td>\n",
       "      <td>VideoAttachment</td>\n",
       "    </tr>\n",
       "    <tr>\n",
       "      <th>3</th>\n",
       "      <td>2022-02-25 15:36</td>\n",
       "      <td>完成任务点</td>\n",
       "      <td>147389380</td>\n",
       "      <td>222675513</td>\n",
       "      <td>1546839285359511</td>\n",
       "      <td>1.2.2 液体的粘性.mp4</td>\n",
       "      <td>VideoAttachment</td>\n",
       "    </tr>\n",
       "    <tr>\n",
       "      <th>4</th>\n",
       "      <td>2022-02-24 21:02</td>\n",
       "      <td>完成任务点</td>\n",
       "      <td>147393474</td>\n",
       "      <td>222675513</td>\n",
       "      <td>1547524697809789</td>\n",
       "      <td>1.2.3 压缩性和热胀性.mp4</td>\n",
       "      <td>VideoAttachment</td>\n",
       "    </tr>\n",
       "  </tbody>\n",
       "</table>\n",
       "</div>"
      ],
      "text/plain": [
       "                 日期   活动类型       用户id       课程id              活动id  \\\n",
       "0  2022-02-24 20:39  完成任务点  147393474  222675513  1546839266729278   \n",
       "1  2022-02-25 15:28  完成任务点  147389380  222675513  1546839266729278   \n",
       "2  2022-02-24 20:54  完成任务点  147393474  222675513  1546839285359511   \n",
       "3  2022-02-25 15:36  完成任务点  147389380  222675513  1546839285359511   \n",
       "4  2022-02-24 21:02  完成任务点  147393474  222675513  1547524697809789   \n",
       "\n",
       "                  任务点名称            任务点类型  \n",
       "0  1.2.1 液体的易流动性与惯性.mp4  VideoAttachment  \n",
       "1  1.2.1 液体的易流动性与惯性.mp4  VideoAttachment  \n",
       "2       1.2.2 液体的粘性.mp4  VideoAttachment  \n",
       "3       1.2.2 液体的粘性.mp4  VideoAttachment  \n",
       "4     1.2.3 压缩性和热胀性.mp4  VideoAttachment  "
      ]
     },
     "execution_count": 47,
     "metadata": {},
     "output_type": "execute_result"
    }
   ],
   "source": [
    "data_tasks = pd.merge(data_jfs, data_cjs, on = ['活动id', '课程id'])\n",
    "data_tasks.reset_index(drop = True, inplace = True)\n",
    "data_tasks.insert(1, '活动类型', '完成任务点')\n",
    "data_tasks = df_clear(data_tasks)\n",
    "print(data_tasks.shape)\n",
    "data_tasks.head()"
   ]
  },
  {
   "cell_type": "markdown",
   "id": "e7bfaa50",
   "metadata": {},
   "source": [
    "#### 数据保存"
   ]
  },
  {
   "cell_type": "code",
   "execution_count": 563,
   "id": "953dfac6",
   "metadata": {},
   "outputs": [],
   "source": [
    "data_tasks.to_csv('E:/比赛/data/5.课程任务点完成记录表_1.csv', index = False, encoding = 'utf_8_sig')"
   ]
  },
  {
   "cell_type": "markdown",
   "id": "c9f6a2db",
   "metadata": {},
   "source": [
    "## 9. t_stat_log & t_stat_login --> 其他活动流水和登录流水"
   ]
  },
  {
   "cell_type": "code",
   "execution_count": 49,
   "id": "6a18e8ae",
   "metadata": {},
   "outputs": [],
   "source": [
    "# 获得所有文件路径\n",
    "log_file = FilesPath('data/t_stat_log&t_stat_login/')\n",
    "\n",
    "data_log = pd.DataFrame()\n",
    "for file_path in (log_file):\n",
    "    dlog = pd.read_csv(file_path, encoding = 'UTF-8')\n",
    "    data_log = pd.concat([data_log, dlog])\n",
    "\n",
    "# 重新设置索引 从0开始\n",
    "data_log.reset_index(drop = True, inplace = True)"
   ]
  },
  {
   "cell_type": "code",
   "execution_count": 50,
   "id": "ee106c21",
   "metadata": {},
   "outputs": [],
   "source": [
    "data_str_clear(data_log)\n",
    "data_logs = data_log[[*data_log.columns[3:6], 'type']]\n",
    "data_logs.columns = ['日期', '用户id', '课程id', '活动类型']\n",
    "data_logs = data_logs.drop(data_logs[data_logs['用户id'] == 0].index)\n",
    "data_logs.reset_index(drop = True, inplace = True)"
   ]
  },
  {
   "cell_type": "code",
   "execution_count": 51,
   "id": "a0f2d0f3",
   "metadata": {},
   "outputs": [],
   "source": [
    "indexs = []\n",
    "for indx,id1 in zip(data_logs.index, data_logs['用户id'].values):\n",
    "    if id1 not in data_stu['用户id'].to_list():\n",
    "        indexs.append(indx)\n",
    "    else:\n",
    "        continue\n",
    "datalogs = data_logs.drop(indexs)"
   ]
  },
  {
   "cell_type": "markdown",
   "id": "9139aa92",
   "metadata": {},
   "source": [
    "自主学习：\n",
    "accesslog 登录访问\n",
    "course pv 访问课程\n",
    "\n",
    "完成任务点：\n",
    "jobfinish 完成任务点\n",
    "\n",
    "完成作业：\n",
    "setwork 提交作业\n",
    "\n",
    "讨论：\n",
    "bbslog 讨论\n",
    "bbslog-replydel 回复讨论\n",
    "\n",
    "\n",
    "互动：\n",
    "piyuework 批阅互评作业\n",
    "\n",
    "workanswer 查阅作业答案\n",
    "workscore 查阅作业分数\n",
    "piyueworkevaluation 查阅作业评价\n",
    "\n",
    "examanswer 查阅试卷答案\n",
    "examscore 查阅考试成绩\n",
    "\n",
    "ceyaanswer 查阅测验答案\n",
    "ceyascore 查阅测验分数"
   ]
  },
  {
   "cell_type": "code",
   "execution_count": 52,
   "id": "ff149100",
   "metadata": {},
   "outputs": [],
   "source": [
    "k1 = []\n",
    "ins1 = []\n",
    "ins2 = []\n",
    "for i in datalogs['活动类型'].unique():\n",
    "    try:\n",
    "        if (i not in [*data['活动类型'].unique(), 'AttendLog']) and (i[0:9] == 'AttendLog'):\n",
    "            ins1 += datalogs[datalogs['活动类型'] == i].index.to_list()\n",
    "            datalogs.loc[datalogs['活动类型'] == i, '活动类型'] = int(i[9:])\n",
    "        else:\n",
    "            if (i not in data['活动类型'].unique()) and i[0:9] != 'AttendLog':\n",
    "                ins2 += datalogs[datalogs['活动类型'] == i].index.to_list()\n",
    "                k1.append(i)\n",
    "    except:\n",
    "        continue"
   ]
  },
  {
   "cell_type": "code",
   "execution_count": 53,
   "id": "c76676d6",
   "metadata": {},
   "outputs": [
    {
     "name": "stdout",
     "output_type": "stream",
     "text": [
      "(73009, 5)\n",
      "(73009, 5)\n"
     ]
    },
    {
     "data": {
      "text/html": [
       "<div>\n",
       "<style scoped>\n",
       "    .dataframe tbody tr th:only-of-type {\n",
       "        vertical-align: middle;\n",
       "    }\n",
       "\n",
       "    .dataframe tbody tr th {\n",
       "        vertical-align: top;\n",
       "    }\n",
       "\n",
       "    .dataframe thead th {\n",
       "        text-align: right;\n",
       "    }\n",
       "</style>\n",
       "<table border=\"1\" class=\"dataframe\">\n",
       "  <thead>\n",
       "    <tr style=\"text-align: right;\">\n",
       "      <th></th>\n",
       "      <th>日期</th>\n",
       "      <th>用户id</th>\n",
       "      <th>课程id</th>\n",
       "      <th>活动类型</th>\n",
       "      <th>活动id</th>\n",
       "    </tr>\n",
       "  </thead>\n",
       "  <tbody>\n",
       "    <tr>\n",
       "      <th>0</th>\n",
       "      <td>2022-02-05 11:13:27</td>\n",
       "      <td>147392719</td>\n",
       "      <td>222595437</td>\n",
       "      <td>登录访问</td>\n",
       "      <td>其他</td>\n",
       "    </tr>\n",
       "    <tr>\n",
       "      <th>1</th>\n",
       "      <td>2022-02-05 11:13:59</td>\n",
       "      <td>147392719</td>\n",
       "      <td>222595437</td>\n",
       "      <td>登录访问</td>\n",
       "      <td>其他</td>\n",
       "    </tr>\n",
       "    <tr>\n",
       "      <th>2</th>\n",
       "      <td>2022-02-05 12:00:10</td>\n",
       "      <td>111946208</td>\n",
       "      <td>222595437</td>\n",
       "      <td>登录访问</td>\n",
       "      <td>其他</td>\n",
       "    </tr>\n",
       "    <tr>\n",
       "      <th>3</th>\n",
       "      <td>2022-02-08 11:07:26</td>\n",
       "      <td>147392719</td>\n",
       "      <td>222595437</td>\n",
       "      <td>登录访问</td>\n",
       "      <td>其他</td>\n",
       "    </tr>\n",
       "    <tr>\n",
       "      <th>4</th>\n",
       "      <td>2022-02-09 10:53:21</td>\n",
       "      <td>111949220</td>\n",
       "      <td>222595437</td>\n",
       "      <td>登录访问</td>\n",
       "      <td>其他</td>\n",
       "    </tr>\n",
       "  </tbody>\n",
       "</table>\n",
       "</div>"
      ],
      "text/plain": [
       "                    日期       用户id       课程id  活动类型 活动id\n",
       "0  2022-02-05 11:13:27  147392719  222595437  登录访问   其他\n",
       "1  2022-02-05 11:13:59  147392719  222595437  登录访问   其他\n",
       "2  2022-02-05 12:00:10  111946208  222595437  登录访问   其他\n",
       "3  2022-02-08 11:07:26  147392719  222595437  登录访问   其他\n",
       "4  2022-02-09 10:53:21  111949220  222595437  登录访问   其他"
      ]
     },
     "execution_count": 53,
     "metadata": {},
     "output_type": "execute_result"
    }
   ],
   "source": [
    "v1 = ['登录访问', '查阅作业答案', '查阅作业分数', '完成任务点', '查阅试卷答案', ' 查阅考试成绩', '查阅测验答案', '查阅测验分数', '讨论', '查阅作业评价', '访问课程', '批阅互评作业', '提交作业', '回复讨论']\n",
    "dtps = dict(zip(k1, v1))\n",
    "# print(dtp)\n",
    "datalogs.loc[ins1, '活动类型'] = datalogs.loc[ins1, '活动类型'].map(sets)\n",
    "datalogs.loc[ins2, '活动类型'] = datalogs.loc[ins2, '活动类型'].map(dtps)\n",
    "datalogs['活动id'] = '其他'\n",
    "datalogs.drop_duplicates(inplace = True)\n",
    "print(datalogs.shape)\n",
    "datalogs.reset_index(drop = True, inplace = True)\n",
    "print(datalogs.shape)\n",
    "datalogs.head()"
   ]
  },
  {
   "cell_type": "markdown",
   "id": "2062391f",
   "metadata": {},
   "source": [
    "#### 雨课堂数据"
   ]
  },
  {
   "cell_type": "code",
   "execution_count": 54,
   "id": "18e9c485",
   "metadata": {},
   "outputs": [
    {
     "name": "stdout",
     "output_type": "stream",
     "text": [
      "(169673, 11)\n"
     ]
    },
    {
     "data": {
      "text/html": [
       "<div>\n",
       "<style scoped>\n",
       "    .dataframe tbody tr th:only-of-type {\n",
       "        vertical-align: middle;\n",
       "    }\n",
       "\n",
       "    .dataframe tbody tr th {\n",
       "        vertical-align: top;\n",
       "    }\n",
       "\n",
       "    .dataframe thead th {\n",
       "        text-align: right;\n",
       "    }\n",
       "</style>\n",
       "<table border=\"1\" class=\"dataframe\">\n",
       "  <thead>\n",
       "    <tr style=\"text-align: right;\">\n",
       "      <th></th>\n",
       "      <th>日期</th>\n",
       "      <th>用户id</th>\n",
       "      <th>班级id</th>\n",
       "      <th>活动类型</th>\n",
       "      <th>活动id</th>\n",
       "    </tr>\n",
       "  </thead>\n",
       "  <tbody>\n",
       "    <tr>\n",
       "      <th>0</th>\n",
       "      <td>2022-08-21 00:33:30</td>\n",
       "      <td>31719382.0</td>\n",
       "      <td>8009860</td>\n",
       "      <td>piyuework</td>\n",
       "      <td>182831528415585</td>\n",
       "    </tr>\n",
       "    <tr>\n",
       "      <th>1</th>\n",
       "      <td>2022-08-21 00:33:30</td>\n",
       "      <td>31719382.0</td>\n",
       "      <td>8009864</td>\n",
       "      <td>piyuework</td>\n",
       "      <td>182833128415602</td>\n",
       "    </tr>\n",
       "    <tr>\n",
       "      <th>2</th>\n",
       "      <td>2022-08-21 00:33:30</td>\n",
       "      <td>38182318.0</td>\n",
       "      <td>8008779</td>\n",
       "      <td>piyueexam</td>\n",
       "      <td>18675428420962</td>\n",
       "    </tr>\n",
       "    <tr>\n",
       "      <th>3</th>\n",
       "      <td>2022-08-21 00:33:30</td>\n",
       "      <td>38182318.0</td>\n",
       "      <td>8008779</td>\n",
       "      <td>piyueexam</td>\n",
       "      <td>19054828421028</td>\n",
       "    </tr>\n",
       "    <tr>\n",
       "      <th>4</th>\n",
       "      <td>2022-08-21 00:33:30</td>\n",
       "      <td>38182318.0</td>\n",
       "      <td>8008779</td>\n",
       "      <td>piyueexam</td>\n",
       "      <td>20910528421137</td>\n",
       "    </tr>\n",
       "  </tbody>\n",
       "</table>\n",
       "</div>"
      ],
      "text/plain": [
       "                    日期        用户id     班级id       活动类型             活动id\n",
       "0  2022-08-21 00:33:30  31719382.0  8009860  piyuework  182831528415585\n",
       "1  2022-08-21 00:33:30  31719382.0  8009864  piyuework  182833128415602\n",
       "2  2022-08-21 00:33:30  38182318.0  8008779  piyueexam   18675428420962\n",
       "3  2022-08-21 00:33:30  38182318.0  8008779  piyueexam   19054828421028\n",
       "4  2022-08-21 00:33:30  38182318.0  8008779  piyueexam   20910528421137"
      ]
     },
     "execution_count": 54,
     "metadata": {},
     "output_type": "execute_result"
    }
   ],
   "source": [
    "# 雨课堂数据\n",
    "df_jfb = getdf(path, 'b1_t_stat_log.xlsx')\n",
    "data_jfb = querydate(df_jfb, dates[0], dates[1], ['last_modify_time', 'personid', 'clazzid', 'type', 'logid'], ['日期', '用户id', '班级id', '活动类型', '活动id'])\n",
    "data_jfb = data_jfb[data_jfb['用户id'].isna() == False]\n",
    "data_jfb = dropdata_(data_jfb, '用户id', peridb)\n",
    "data_jfb = dropdata_(data_jfb, '用户id', 0)\n",
    "data_jfb.head()"
   ]
  },
  {
   "cell_type": "code",
   "execution_count": 55,
   "id": "e8be8139",
   "metadata": {
    "scrolled": false
   },
   "outputs": [
    {
     "name": "stdout",
     "output_type": "stream",
     "text": [
      "(35373, 5)\n"
     ]
    },
    {
     "name": "stderr",
     "output_type": "stream",
     "text": [
      "C:\\Users\\SUGA\\AppData\\Local\\Temp\\ipykernel_19160\\3006673725.py:2: SettingWithCopyWarning: \n",
      "A value is trying to be set on a copy of a slice from a DataFrame.\n",
      "Try using .loc[row_indexer,col_indexer] = value instead\n",
      "\n",
      "See the caveats in the documentation: https://pandas.pydata.org/pandas-docs/stable/user_guide/indexing.html#returning-a-view-versus-a-copy\n",
      "  data_njfb.loc[:, '活动类型'] = '查阅试卷答案'\n",
      "C:\\Users\\SUGA\\AppData\\Local\\Temp\\ipykernel_19160\\3006673725.py:4: SettingWithCopyWarning: \n",
      "A value is trying to be set on a copy of a slice from a DataFrame\n",
      "\n",
      "See the caveats in the documentation: https://pandas.pydata.org/pandas-docs/stable/user_guide/indexing.html#returning-a-view-versus-a-copy\n",
      "  data_njfb.drop_duplicates(inplace = True)\n"
     ]
    },
    {
     "data": {
      "text/html": [
       "<div>\n",
       "<style scoped>\n",
       "    .dataframe tbody tr th:only-of-type {\n",
       "        vertical-align: middle;\n",
       "    }\n",
       "\n",
       "    .dataframe tbody tr th {\n",
       "        vertical-align: top;\n",
       "    }\n",
       "\n",
       "    .dataframe thead th {\n",
       "        text-align: right;\n",
       "    }\n",
       "</style>\n",
       "<table border=\"1\" class=\"dataframe\">\n",
       "  <thead>\n",
       "    <tr style=\"text-align: right;\">\n",
       "      <th></th>\n",
       "      <th>日期</th>\n",
       "      <th>用户id</th>\n",
       "      <th>班级id</th>\n",
       "      <th>活动类型</th>\n",
       "      <th>活动id</th>\n",
       "    </tr>\n",
       "  </thead>\n",
       "  <tbody>\n",
       "    <tr>\n",
       "      <th>0</th>\n",
       "      <td>2022-08-26 05:01:16</td>\n",
       "      <td>28433403.0</td>\n",
       "      <td>8010936</td>\n",
       "      <td>查阅试卷答案</td>\n",
       "      <td>28433403176738</td>\n",
       "    </tr>\n",
       "    <tr>\n",
       "      <th>1</th>\n",
       "      <td>2022-08-26 05:01:23</td>\n",
       "      <td>28432273.0</td>\n",
       "      <td>8011490</td>\n",
       "      <td>查阅试卷答案</td>\n",
       "      <td>28432273172158</td>\n",
       "    </tr>\n",
       "    <tr>\n",
       "      <th>2</th>\n",
       "      <td>2022-08-26 05:00:58</td>\n",
       "      <td>28432273.0</td>\n",
       "      <td>8011492</td>\n",
       "      <td>查阅试卷答案</td>\n",
       "      <td>28432273172159</td>\n",
       "    </tr>\n",
       "    <tr>\n",
       "      <th>3</th>\n",
       "      <td>2022-08-26 05:01:29</td>\n",
       "      <td>28432273.0</td>\n",
       "      <td>8011492</td>\n",
       "      <td>查阅试卷答案</td>\n",
       "      <td>28432273179979</td>\n",
       "    </tr>\n",
       "    <tr>\n",
       "      <th>4</th>\n",
       "      <td>2022-08-26 05:01:11</td>\n",
       "      <td>28432273.0</td>\n",
       "      <td>8011490</td>\n",
       "      <td>查阅试卷答案</td>\n",
       "      <td>28432273179978</td>\n",
       "    </tr>\n",
       "  </tbody>\n",
       "</table>\n",
       "</div>"
      ],
      "text/plain": [
       "                    日期        用户id     班级id    活动类型            活动id\n",
       "0  2022-08-26 05:01:16  28433403.0  8010936  查阅试卷答案  28433403176738\n",
       "1  2022-08-26 05:01:23  28432273.0  8011490  查阅试卷答案  28432273172158\n",
       "2  2022-08-26 05:00:58  28432273.0  8011492  查阅试卷答案  28432273172159\n",
       "3  2022-08-26 05:01:29  28432273.0  8011492  查阅试卷答案  28432273179979\n",
       "4  2022-08-26 05:01:11  28432273.0  8011490  查阅试卷答案  28432273179978"
      ]
     },
     "execution_count": 55,
     "metadata": {},
     "output_type": "execute_result"
    }
   ],
   "source": [
    "data_njfb = data_jfb[data_jfb.活动类型 == 'examanswer']\n",
    "data_njfb.loc[:, '活动类型'] = '查阅试卷答案'\n",
    "data_njfb.reset_index(drop = True, inplace = True)\n",
    "data_njfb.drop_duplicates(inplace = True)\n",
    "print(data_njfb.shape)\n",
    "data_njfb.head()"
   ]
  },
  {
   "cell_type": "code",
   "execution_count": 56,
   "id": "dc9c7412",
   "metadata": {},
   "outputs": [
    {
     "name": "stdout",
     "output_type": "stream",
     "text": [
      "(32946, 5)\n"
     ]
    },
    {
     "data": {
      "text/html": [
       "<div>\n",
       "<style scoped>\n",
       "    .dataframe tbody tr th:only-of-type {\n",
       "        vertical-align: middle;\n",
       "    }\n",
       "\n",
       "    .dataframe tbody tr th {\n",
       "        vertical-align: top;\n",
       "    }\n",
       "\n",
       "    .dataframe thead th {\n",
       "        text-align: right;\n",
       "    }\n",
       "</style>\n",
       "<table border=\"1\" class=\"dataframe\">\n",
       "  <thead>\n",
       "    <tr style=\"text-align: right;\">\n",
       "      <th></th>\n",
       "      <th>日期</th>\n",
       "      <th>用户id</th>\n",
       "      <th>课程id</th>\n",
       "      <th>活动类型</th>\n",
       "      <th>活动id</th>\n",
       "    </tr>\n",
       "  </thead>\n",
       "  <tbody>\n",
       "    <tr>\n",
       "      <th>0</th>\n",
       "      <td>2022-08-26 05:01:16</td>\n",
       "      <td>28433403</td>\n",
       "      <td>2260721</td>\n",
       "      <td>查阅试卷答案</td>\n",
       "      <td>28433403176738</td>\n",
       "    </tr>\n",
       "    <tr>\n",
       "      <th>1</th>\n",
       "      <td>2022-08-26 05:01:16</td>\n",
       "      <td>28433471</td>\n",
       "      <td>2260721</td>\n",
       "      <td>查阅试卷答案</td>\n",
       "      <td>28433471182902</td>\n",
       "    </tr>\n",
       "    <tr>\n",
       "      <th>2</th>\n",
       "      <td>2022-08-26 05:01:14</td>\n",
       "      <td>28413048</td>\n",
       "      <td>2260721</td>\n",
       "      <td>查阅试卷答案</td>\n",
       "      <td>28413048189188</td>\n",
       "    </tr>\n",
       "    <tr>\n",
       "      <th>3</th>\n",
       "      <td>2022-08-26 05:01:19</td>\n",
       "      <td>28433318</td>\n",
       "      <td>2260721</td>\n",
       "      <td>查阅试卷答案</td>\n",
       "      <td>28433318189188</td>\n",
       "    </tr>\n",
       "    <tr>\n",
       "      <th>4</th>\n",
       "      <td>2022-08-26 05:01:11</td>\n",
       "      <td>28425227</td>\n",
       "      <td>2260721</td>\n",
       "      <td>查阅试卷答案</td>\n",
       "      <td>28425227189188</td>\n",
       "    </tr>\n",
       "  </tbody>\n",
       "</table>\n",
       "</div>"
      ],
      "text/plain": [
       "                    日期      用户id     课程id    活动类型            活动id\n",
       "0  2022-08-26 05:01:16  28433403  2260721  查阅试卷答案  28433403176738\n",
       "1  2022-08-26 05:01:16  28433471  2260721  查阅试卷答案  28433471182902\n",
       "2  2022-08-26 05:01:14  28413048  2260721  查阅试卷答案  28413048189188\n",
       "3  2022-08-26 05:01:19  28433318  2260721  查阅试卷答案  28433318189188\n",
       "4  2022-08-26 05:01:11  28425227  2260721  查阅试卷答案  28425227189188"
      ]
     },
     "execution_count": 56,
     "metadata": {},
     "output_type": "execute_result"
    }
   ],
   "source": [
    "data_jfbb = pd.merge(data_njfb, data_cla, on = '班级id')\n",
    "data_jfbb = data_jfbb[['日期', '用户id', '课程id', '活动类型', '活动id']]\n",
    "data_jfbb.reset_index(drop = True, inplace = True)\n",
    "data_jfbb['用户id'] = data_jfbb['用户id'].astype(int)\n",
    "print(data_jfbb.shape)\n",
    "data_jfbb.head()"
   ]
  },
  {
   "cell_type": "markdown",
   "id": "73448cab",
   "metadata": {},
   "source": [
    "#### 数据合并"
   ]
  },
  {
   "cell_type": "code",
   "execution_count": 57,
   "id": "54fb3d54",
   "metadata": {},
   "outputs": [
    {
     "name": "stdout",
     "output_type": "stream",
     "text": [
      "(105950, 5)\n"
     ]
    },
    {
     "data": {
      "text/html": [
       "<div>\n",
       "<style scoped>\n",
       "    .dataframe tbody tr th:only-of-type {\n",
       "        vertical-align: middle;\n",
       "    }\n",
       "\n",
       "    .dataframe tbody tr th {\n",
       "        vertical-align: top;\n",
       "    }\n",
       "\n",
       "    .dataframe thead th {\n",
       "        text-align: right;\n",
       "    }\n",
       "</style>\n",
       "<table border=\"1\" class=\"dataframe\">\n",
       "  <thead>\n",
       "    <tr style=\"text-align: right;\">\n",
       "      <th></th>\n",
       "      <th>日期</th>\n",
       "      <th>活动类型</th>\n",
       "      <th>用户id</th>\n",
       "      <th>课程id</th>\n",
       "      <th>活动id</th>\n",
       "    </tr>\n",
       "  </thead>\n",
       "  <tbody>\n",
       "    <tr>\n",
       "      <th>0</th>\n",
       "      <td>2022-02-05 11:13:27</td>\n",
       "      <td>登录访问</td>\n",
       "      <td>147392719</td>\n",
       "      <td>222595437</td>\n",
       "      <td>其他</td>\n",
       "    </tr>\n",
       "    <tr>\n",
       "      <th>1</th>\n",
       "      <td>2022-02-05 11:13:59</td>\n",
       "      <td>登录访问</td>\n",
       "      <td>147392719</td>\n",
       "      <td>222595437</td>\n",
       "      <td>其他</td>\n",
       "    </tr>\n",
       "    <tr>\n",
       "      <th>2</th>\n",
       "      <td>2022-02-05 12:00:10</td>\n",
       "      <td>登录访问</td>\n",
       "      <td>111946208</td>\n",
       "      <td>222595437</td>\n",
       "      <td>其他</td>\n",
       "    </tr>\n",
       "    <tr>\n",
       "      <th>3</th>\n",
       "      <td>2022-02-08 11:07:26</td>\n",
       "      <td>登录访问</td>\n",
       "      <td>147392719</td>\n",
       "      <td>222595437</td>\n",
       "      <td>其他</td>\n",
       "    </tr>\n",
       "    <tr>\n",
       "      <th>4</th>\n",
       "      <td>2022-02-09 10:53:21</td>\n",
       "      <td>登录访问</td>\n",
       "      <td>111949220</td>\n",
       "      <td>222595437</td>\n",
       "      <td>其他</td>\n",
       "    </tr>\n",
       "  </tbody>\n",
       "</table>\n",
       "</div>"
      ],
      "text/plain": [
       "                    日期  活动类型       用户id       课程id 活动id\n",
       "0  2022-02-05 11:13:27  登录访问  147392719  222595437   其他\n",
       "1  2022-02-05 11:13:59  登录访问  147392719  222595437   其他\n",
       "2  2022-02-05 12:00:10  登录访问  111946208  222595437   其他\n",
       "3  2022-02-08 11:07:26  登录访问  147392719  222595437   其他\n",
       "4  2022-02-09 10:53:21  登录访问  111949220  222595437   其他"
      ]
     },
     "execution_count": 57,
     "metadata": {},
     "output_type": "execute_result"
    }
   ],
   "source": [
    "newdatalog = pd.concat([datalogs, data_jfbb], axis = 0)\n",
    "newdatalog = newdatalog[['日期', '活动类型', '用户id', '课程id', '活动id']]\n",
    "newdatalog = newdatalog[newdatalog['活动类型'].isna() == False]\n",
    "newdatalog.reset_index(drop = True, inplace = True)\n",
    "print(newdatalog.shape)\n",
    "newdatalog.head()"
   ]
  },
  {
   "cell_type": "markdown",
   "id": "37c215e2",
   "metadata": {},
   "source": [
    "#### 保存数据"
   ]
  },
  {
   "cell_type": "code",
   "execution_count": 564,
   "id": "42e745df",
   "metadata": {},
   "outputs": [],
   "source": [
    "newdatalog.to_csv('E:/比赛/data/6.其他活动流水和登录流水.csv', index = False, encoding = 'utf_8_sig')"
   ]
  },
  {
   "cell_type": "markdown",
   "id": "59313098",
   "metadata": {},
   "source": [
    "## 10. t_stat_student_score --> 学生成绩表"
   ]
  },
  {
   "cell_type": "code",
   "execution_count": 59,
   "id": "e0049441",
   "metadata": {},
   "outputs": [
    {
     "name": "stdout",
     "output_type": "stream",
     "text": [
      "(2248, 9)\n"
     ]
    }
   ],
   "source": [
    "# 超星数据\n",
    "df_scs = pd.read_excel('data/t_stat_student_score.xls')\n",
    "print(df_scs.shape)\n",
    "# df_scs.head(5)"
   ]
  },
  {
   "cell_type": "code",
   "execution_count": 60,
   "id": "67876d02",
   "metadata": {},
   "outputs": [
    {
     "name": "stdout",
     "output_type": "stream",
     "text": [
      "(2248, 4)\n"
     ]
    }
   ],
   "source": [
    "data_scs = getdata(df_scs, ['last_modify_time', 'personid', 'courseid', 'score'], ['日期', '用户id', '课程id', '综合成绩'])\n",
    "data_scs = dropdata_(data_scs, '用户id', perids)"
   ]
  },
  {
   "cell_type": "code",
   "execution_count": 61,
   "id": "1051b5b0",
   "metadata": {
    "scrolled": true
   },
   "outputs": [],
   "source": [
    "# 结合实际情况，将综合成绩小于25都作为缺省值处理\n",
    "import numpy as np\n",
    "insmea = []\n",
    "for i in data_scs['课程id'].unique():\n",
    "    mea = data_scs[(data_scs['课程id'] == i) & (data_scs['综合成绩'] > 5)]['综合成绩'].mean()\n",
    "    if mea is np.nan:\n",
    "        data_scs = data_scs.drop(data_scs[data_scs['课程id'] == i].index)\n",
    "    elif mea < 30:\n",
    "        data_scs.loc[data_scs['课程id'] == i, '综合成绩'] = (100 - data_scs.loc[data_scs['课程id'] == i, '综合成绩']).round(2)\n",
    "    elif mea < 40:\n",
    "        data_scs.loc[data_scs['课程id'] == i, '综合成绩'] = (90 - data_scs.loc[data_scs['课程id'] == i, '综合成绩']).round(2)\n",
    "    elif mea < 60:\n",
    "        data_scs.loc[(data_scs['课程id'] == i) & (data_scs['综合成绩'] < 55), '综合成绩'] = (45 + data_scs.loc[data_scs['课程id'] == i, '综合成绩']).round(2)\n",
    "    else:\n",
    "        data_scs.loc[(data_scs['课程id'] == i) & (data_scs['综合成绩'] <= 25), '综合成绩'] = mea.round(2)"
   ]
  },
  {
   "cell_type": "code",
   "execution_count": 62,
   "id": "47edda44",
   "metadata": {},
   "outputs": [
    {
     "name": "stdout",
     "output_type": "stream",
     "text": [
      "处理后平均值:  85.20765710799266\n",
      "(1639, 6)\n"
     ]
    },
    {
     "data": {
      "text/html": [
       "<div>\n",
       "<style scoped>\n",
       "    .dataframe tbody tr th:only-of-type {\n",
       "        vertical-align: middle;\n",
       "    }\n",
       "\n",
       "    .dataframe tbody tr th {\n",
       "        vertical-align: top;\n",
       "    }\n",
       "\n",
       "    .dataframe thead th {\n",
       "        text-align: right;\n",
       "    }\n",
       "</style>\n",
       "<table border=\"1\" class=\"dataframe\">\n",
       "  <thead>\n",
       "    <tr style=\"text-align: right;\">\n",
       "      <th></th>\n",
       "      <th>日期</th>\n",
       "      <th>活动类型</th>\n",
       "      <th>用户id</th>\n",
       "      <th>课程id</th>\n",
       "      <th>活动id</th>\n",
       "      <th>综合成绩</th>\n",
       "    </tr>\n",
       "  </thead>\n",
       "  <tbody>\n",
       "    <tr>\n",
       "      <th>93</th>\n",
       "      <td>2022-02-22 17:00</td>\n",
       "      <td>综合考试</td>\n",
       "      <td>51465331</td>\n",
       "      <td>223018597</td>\n",
       "      <td>考试</td>\n",
       "      <td>88.09</td>\n",
       "    </tr>\n",
       "    <tr>\n",
       "      <th>94</th>\n",
       "      <td>2022-03-03 07:41</td>\n",
       "      <td>综合考试</td>\n",
       "      <td>67473135</td>\n",
       "      <td>223018597</td>\n",
       "      <td>考试</td>\n",
       "      <td>100.00</td>\n",
       "    </tr>\n",
       "    <tr>\n",
       "      <th>95</th>\n",
       "      <td>2022-02-22 17:00</td>\n",
       "      <td>综合考试</td>\n",
       "      <td>69984054</td>\n",
       "      <td>223018597</td>\n",
       "      <td>考试</td>\n",
       "      <td>92.42</td>\n",
       "    </tr>\n",
       "    <tr>\n",
       "      <th>96</th>\n",
       "      <td>2022-02-22 17:00</td>\n",
       "      <td>综合考试</td>\n",
       "      <td>111943347</td>\n",
       "      <td>223018597</td>\n",
       "      <td>考试</td>\n",
       "      <td>88.68</td>\n",
       "    </tr>\n",
       "    <tr>\n",
       "      <th>97</th>\n",
       "      <td>2022-02-22 17:00</td>\n",
       "      <td>综合考试</td>\n",
       "      <td>111944035</td>\n",
       "      <td>223018597</td>\n",
       "      <td>考试</td>\n",
       "      <td>94.25</td>\n",
       "    </tr>\n",
       "  </tbody>\n",
       "</table>\n",
       "</div>"
      ],
      "text/plain": [
       "                  日期  活动类型       用户id       课程id 活动id    综合成绩\n",
       "93  2022-02-22 17:00  综合考试   51465331  223018597   考试   88.09\n",
       "94  2022-03-03 07:41  综合考试   67473135  223018597   考试  100.00\n",
       "95  2022-02-22 17:00  综合考试   69984054  223018597   考试   92.42\n",
       "96  2022-02-22 17:00  综合考试  111943347  223018597   考试   88.68\n",
       "97  2022-02-22 17:00  综合考试  111944035  223018597   考试   94.25"
      ]
     },
     "execution_count": 62,
     "metadata": {},
     "output_type": "execute_result"
    }
   ],
   "source": [
    "print('处理后平均值: ',data_scs.综合成绩.mean())\n",
    "\n",
    "data_scs.insert(1,'活动类型', '综合考试')\n",
    "data_scs.insert(4,'活动id', '考试')\n",
    "print(data_scs.shape)\n",
    "data_scs.head()"
   ]
  },
  {
   "cell_type": "markdown",
   "id": "c936c460",
   "metadata": {},
   "source": [
    "#### 各课程的综合成绩平均值"
   ]
  },
  {
   "cell_type": "code",
   "execution_count": 63,
   "id": "3334a202",
   "metadata": {},
   "outputs": [
    {
     "name": "stdout",
     "output_type": "stream",
     "text": [
      "222602451 73.40425531914893\n",
      "222652756 87.72106824925817\n",
      "222675513 95.21153846153847\n",
      "222807286 77.55718562874252\n",
      "222808035 85.45975000000001\n",
      "222820410 58.48226804123711\n",
      "222820426 97.9555\n",
      "223018597 87.75105590062113\n",
      "223945300 90.98916666666666\n",
      "224841013 91.18518518518519\n",
      "224894458 96.36381868131868\n",
      "224922228 85.44764705882349\n"
     ]
    }
   ],
   "source": [
    "for i in data_scs.groupby('课程id')['综合成绩']:\n",
    "    print(i[0], i[1].mean())"
   ]
  },
  {
   "cell_type": "markdown",
   "id": "b3ea549d",
   "metadata": {},
   "source": [
    "#### 雨课堂数据"
   ]
  },
  {
   "cell_type": "code",
   "execution_count": 64,
   "id": "30bfe048",
   "metadata": {},
   "outputs": [],
   "source": [
    "# 雨课堂数据\n",
    "df_scb = pd.read_excel('data/b1_t_stat_student_score.xlsx')\n",
    "data_scb = querydate(df_scb, dates[0], dates[1], ['last_modify_time', 'personid', 'clazzid', 'score'], ['日期', '用户id', '班级id', '综合成绩'])\n",
    "data_scb = dropdata_(data_scb, '用户id', perids)"
   ]
  },
  {
   "cell_type": "markdown",
   "id": "45ffb2c4",
   "metadata": {},
   "source": [
    "#### 填充缺省值"
   ]
  },
  {
   "cell_type": "code",
   "execution_count": 65,
   "id": "bbed0053",
   "metadata": {},
   "outputs": [],
   "source": [
    "# 将综合成绩均值小于5的课程的考试记录删除默认没有该项操作，对均值小于20、30、40、60的各类区间的每门课程的考试记录的综合成绩进行缺省值补充\n",
    "for i in data_scb.groupby(['班级id'])['综合成绩']:\n",
    "    if i[1].mean() < 5:\n",
    "        data_scb = data_scb.drop(i[1].index.to_list())\n",
    "    elif i[1].mean() < 20:\n",
    "        data_scb.loc[data_scb['班级id'] == i[0], '综合成绩'] = (90 - data_scb.loc[data_scb['班级id'] == i[0], '综合成绩'])\n",
    "    elif i[1].mean() < 30:\n",
    "        data_scb.loc[data_scb['班级id'] == i[0], '综合成绩'] = (95 - data_scb.loc[data_scb['班级id'] == i[0], '综合成绩'])\n",
    "    elif i[1].mean() < 40:\n",
    "        data_scb.loc[data_scb['班级id'] == i[0], '综合成绩'] = (100 - data_scb.loc[data_scb['班级id'] == i[0], '综合成绩'])\n",
    "    elif i[1].mean() < 60:\n",
    "        data_scb.loc[(data_scb['班级id'] == i[0]) & (data_scb['综合成绩'] < 60), '综合成绩'] = (30 + data_scb.loc[data_scb['班级id'] == i[0], '综合成绩'])"
   ]
  },
  {
   "cell_type": "code",
   "execution_count": 66,
   "id": "0672bbca",
   "metadata": {},
   "outputs": [
    {
     "name": "stdout",
     "output_type": "stream",
     "text": [
      "(28076, 6)\n"
     ]
    },
    {
     "data": {
      "text/html": [
       "<div>\n",
       "<style scoped>\n",
       "    .dataframe tbody tr th:only-of-type {\n",
       "        vertical-align: middle;\n",
       "    }\n",
       "\n",
       "    .dataframe tbody tr th {\n",
       "        vertical-align: top;\n",
       "    }\n",
       "\n",
       "    .dataframe thead th {\n",
       "        text-align: right;\n",
       "    }\n",
       "</style>\n",
       "<table border=\"1\" class=\"dataframe\">\n",
       "  <thead>\n",
       "    <tr style=\"text-align: right;\">\n",
       "      <th></th>\n",
       "      <th>日期</th>\n",
       "      <th>活动类型</th>\n",
       "      <th>用户id</th>\n",
       "      <th>班级id</th>\n",
       "      <th>活动id</th>\n",
       "      <th>综合成绩</th>\n",
       "    </tr>\n",
       "  </thead>\n",
       "  <tbody>\n",
       "    <tr>\n",
       "      <th>61</th>\n",
       "      <td>2022-06-10 05:01:25</td>\n",
       "      <td>综合考试</td>\n",
       "      <td>28405855</td>\n",
       "      <td>8009388</td>\n",
       "      <td>考试</td>\n",
       "      <td>63.83</td>\n",
       "    </tr>\n",
       "    <tr>\n",
       "      <th>95</th>\n",
       "      <td>2022-06-10 05:02:35</td>\n",
       "      <td>综合考试</td>\n",
       "      <td>28405870</td>\n",
       "      <td>8009449</td>\n",
       "      <td>考试</td>\n",
       "      <td>87.86</td>\n",
       "    </tr>\n",
       "    <tr>\n",
       "      <th>96</th>\n",
       "      <td>2022-04-25 05:19:48</td>\n",
       "      <td>综合考试</td>\n",
       "      <td>28405870</td>\n",
       "      <td>8009479</td>\n",
       "      <td>考试</td>\n",
       "      <td>87.65</td>\n",
       "    </tr>\n",
       "    <tr>\n",
       "      <th>123</th>\n",
       "      <td>2022-03-23 05:00:23</td>\n",
       "      <td>综合考试</td>\n",
       "      <td>28405892</td>\n",
       "      <td>8010139</td>\n",
       "      <td>考试</td>\n",
       "      <td>82.62</td>\n",
       "    </tr>\n",
       "    <tr>\n",
       "      <th>154</th>\n",
       "      <td>2022-03-23 05:00:23</td>\n",
       "      <td>综合考试</td>\n",
       "      <td>28405925</td>\n",
       "      <td>8010141</td>\n",
       "      <td>考试</td>\n",
       "      <td>78.62</td>\n",
       "    </tr>\n",
       "  </tbody>\n",
       "</table>\n",
       "</div>"
      ],
      "text/plain": [
       "                      日期  活动类型      用户id     班级id 活动id   综合成绩\n",
       "61   2022-06-10 05:01:25  综合考试  28405855  8009388   考试  63.83\n",
       "95   2022-06-10 05:02:35  综合考试  28405870  8009449   考试  87.86\n",
       "96   2022-04-25 05:19:48  综合考试  28405870  8009479   考试  87.65\n",
       "123  2022-03-23 05:00:23  综合考试  28405892  8010139   考试  82.62\n",
       "154  2022-03-23 05:00:23  综合考试  28405925  8010141   考试  78.62"
      ]
     },
     "execution_count": 66,
     "metadata": {},
     "output_type": "execute_result"
    }
   ],
   "source": [
    "data_scb.insert(1,'活动类型', '综合考试')\n",
    "data_scb.insert(4,'活动id', '考试')\n",
    "print(data_scb.shape)\n",
    "data_scb.head()"
   ]
  },
  {
   "cell_type": "code",
   "execution_count": 67,
   "id": "46517759",
   "metadata": {},
   "outputs": [
    {
     "name": "stdout",
     "output_type": "stream",
     "text": [
      "(27199, 6)\n"
     ]
    },
    {
     "data": {
      "text/html": [
       "<div>\n",
       "<style scoped>\n",
       "    .dataframe tbody tr th:only-of-type {\n",
       "        vertical-align: middle;\n",
       "    }\n",
       "\n",
       "    .dataframe tbody tr th {\n",
       "        vertical-align: top;\n",
       "    }\n",
       "\n",
       "    .dataframe thead th {\n",
       "        text-align: right;\n",
       "    }\n",
       "</style>\n",
       "<table border=\"1\" class=\"dataframe\">\n",
       "  <thead>\n",
       "    <tr style=\"text-align: right;\">\n",
       "      <th></th>\n",
       "      <th>日期</th>\n",
       "      <th>活动类型</th>\n",
       "      <th>用户id</th>\n",
       "      <th>课程id</th>\n",
       "      <th>活动id</th>\n",
       "      <th>综合成绩</th>\n",
       "    </tr>\n",
       "  </thead>\n",
       "  <tbody>\n",
       "    <tr>\n",
       "      <th>0</th>\n",
       "      <td>2022-06-10 05:01:25</td>\n",
       "      <td>综合考试</td>\n",
       "      <td>28405855</td>\n",
       "      <td>1944089</td>\n",
       "      <td>考试</td>\n",
       "      <td>63.83</td>\n",
       "    </tr>\n",
       "    <tr>\n",
       "      <th>1</th>\n",
       "      <td>2022-06-10 05:01:25</td>\n",
       "      <td>综合考试</td>\n",
       "      <td>28406687</td>\n",
       "      <td>1944089</td>\n",
       "      <td>考试</td>\n",
       "      <td>63.83</td>\n",
       "    </tr>\n",
       "    <tr>\n",
       "      <th>2</th>\n",
       "      <td>2022-06-10 05:01:25</td>\n",
       "      <td>综合考试</td>\n",
       "      <td>28412716</td>\n",
       "      <td>1944089</td>\n",
       "      <td>考试</td>\n",
       "      <td>61.75</td>\n",
       "    </tr>\n",
       "    <tr>\n",
       "      <th>3</th>\n",
       "      <td>2022-06-10 05:02:33</td>\n",
       "      <td>综合考试</td>\n",
       "      <td>28420546</td>\n",
       "      <td>1944089</td>\n",
       "      <td>考试</td>\n",
       "      <td>75.17</td>\n",
       "    </tr>\n",
       "    <tr>\n",
       "      <th>4</th>\n",
       "      <td>2022-06-10 05:02:35</td>\n",
       "      <td>综合考试</td>\n",
       "      <td>28425138</td>\n",
       "      <td>1944089</td>\n",
       "      <td>考试</td>\n",
       "      <td>83.83</td>\n",
       "    </tr>\n",
       "  </tbody>\n",
       "</table>\n",
       "</div>"
      ],
      "text/plain": [
       "                    日期  活动类型      用户id     课程id 活动id   综合成绩\n",
       "0  2022-06-10 05:01:25  综合考试  28405855  1944089   考试  63.83\n",
       "1  2022-06-10 05:01:25  综合考试  28406687  1944089   考试  63.83\n",
       "2  2022-06-10 05:01:25  综合考试  28412716  1944089   考试  61.75\n",
       "3  2022-06-10 05:02:33  综合考试  28420546  1944089   考试  75.17\n",
       "4  2022-06-10 05:02:35  综合考试  28425138  1944089   考试  83.83"
      ]
     },
     "execution_count": 67,
     "metadata": {},
     "output_type": "execute_result"
    }
   ],
   "source": [
    "data_nscb = pd.merge(data_scb, data_cla, on = '班级id')\n",
    "data_nscb = data_nscb[['日期', '活动类型', '用户id', '课程id', '活动id', '综合成绩']]\n",
    "data_nscb.reset_index(drop = True, inplace = True)\n",
    "print(data_nscb.shape)\n",
    "data_nscb.head()"
   ]
  },
  {
   "cell_type": "markdown",
   "id": "1c42b8dc",
   "metadata": {},
   "source": [
    "#### 数据合并"
   ]
  },
  {
   "cell_type": "code",
   "execution_count": 68,
   "id": "8352867a",
   "metadata": {},
   "outputs": [
    {
     "name": "stdout",
     "output_type": "stream",
     "text": [
      "(28838, 6)\n"
     ]
    },
    {
     "data": {
      "text/html": [
       "<div>\n",
       "<style scoped>\n",
       "    .dataframe tbody tr th:only-of-type {\n",
       "        vertical-align: middle;\n",
       "    }\n",
       "\n",
       "    .dataframe tbody tr th {\n",
       "        vertical-align: top;\n",
       "    }\n",
       "\n",
       "    .dataframe thead th {\n",
       "        text-align: right;\n",
       "    }\n",
       "</style>\n",
       "<table border=\"1\" class=\"dataframe\">\n",
       "  <thead>\n",
       "    <tr style=\"text-align: right;\">\n",
       "      <th></th>\n",
       "      <th>日期</th>\n",
       "      <th>活动类型</th>\n",
       "      <th>用户id</th>\n",
       "      <th>课程id</th>\n",
       "      <th>活动id</th>\n",
       "      <th>综合成绩</th>\n",
       "    </tr>\n",
       "  </thead>\n",
       "  <tbody>\n",
       "    <tr>\n",
       "      <th>0</th>\n",
       "      <td>2022-02-22 17:00</td>\n",
       "      <td>综合考试</td>\n",
       "      <td>51465331</td>\n",
       "      <td>223018597</td>\n",
       "      <td>考试</td>\n",
       "      <td>88.09</td>\n",
       "    </tr>\n",
       "    <tr>\n",
       "      <th>1</th>\n",
       "      <td>2022-03-03 07:41</td>\n",
       "      <td>综合考试</td>\n",
       "      <td>67473135</td>\n",
       "      <td>223018597</td>\n",
       "      <td>考试</td>\n",
       "      <td>100.00</td>\n",
       "    </tr>\n",
       "    <tr>\n",
       "      <th>2</th>\n",
       "      <td>2022-02-22 17:00</td>\n",
       "      <td>综合考试</td>\n",
       "      <td>69984054</td>\n",
       "      <td>223018597</td>\n",
       "      <td>考试</td>\n",
       "      <td>92.42</td>\n",
       "    </tr>\n",
       "    <tr>\n",
       "      <th>3</th>\n",
       "      <td>2022-02-22 17:00</td>\n",
       "      <td>综合考试</td>\n",
       "      <td>111943347</td>\n",
       "      <td>223018597</td>\n",
       "      <td>考试</td>\n",
       "      <td>88.68</td>\n",
       "    </tr>\n",
       "    <tr>\n",
       "      <th>4</th>\n",
       "      <td>2022-02-22 17:00</td>\n",
       "      <td>综合考试</td>\n",
       "      <td>111944035</td>\n",
       "      <td>223018597</td>\n",
       "      <td>考试</td>\n",
       "      <td>94.25</td>\n",
       "    </tr>\n",
       "  </tbody>\n",
       "</table>\n",
       "</div>"
      ],
      "text/plain": [
       "                 日期  活动类型       用户id       课程id 活动id    综合成绩\n",
       "0  2022-02-22 17:00  综合考试   51465331  223018597   考试   88.09\n",
       "1  2022-03-03 07:41  综合考试   67473135  223018597   考试  100.00\n",
       "2  2022-02-22 17:00  综合考试   69984054  223018597   考试   92.42\n",
       "3  2022-02-22 17:00  综合考试  111943347  223018597   考试   88.68\n",
       "4  2022-02-22 17:00  综合考试  111944035  223018597   考试   94.25"
      ]
     },
     "execution_count": 68,
     "metadata": {},
     "output_type": "execute_result"
    }
   ],
   "source": [
    "data_sc = pd.concat([data_scs, data_nscb], axis = 0)\n",
    "data_sc.reset_index(drop = True, inplace = True)\n",
    "print(data_sc.shape)\n",
    "data_sc.head()"
   ]
  },
  {
   "cell_type": "markdown",
   "id": "f692101e",
   "metadata": {},
   "source": [
    "#### 数据保存"
   ]
  },
  {
   "cell_type": "code",
   "execution_count": 565,
   "id": "d9a0cd84",
   "metadata": {},
   "outputs": [],
   "source": [
    "data_sc.to_csv('E:/比赛/data/8.学生综合考试成绩表.csv', index = False, encoding = 'utf_8_sig')"
   ]
  },
  {
   "cell_type": "markdown",
   "id": "d4655594",
   "metadata": {},
   "source": [
    "## 11.  t_stat_widget_log --> 课堂活动发布表\n",
    "### 每门课程每项活动的完成情况"
   ]
  },
  {
   "cell_type": "code",
   "execution_count": 70,
   "id": "6efa5f66",
   "metadata": {},
   "outputs": [],
   "source": [
    "# 每门课程每项活动的完成情况\n",
    "# df_w = getdf(path, 't_stat_widget_log.xls')\n",
    "# data_w = getdata(df_w, ['courseid', 'activity_id', 'dtype', 'send_to_student', 'attend_count'], ['课程id', '活动id', '活动类型', '应参人数', '实参人数'])\n",
    "# data_w['活动类型'] = data_w['活动类型'].map(acts)\n",
    "# data_w.head()"
   ]
  },
  {
   "cell_type": "markdown",
   "id": "75d5f2c4",
   "metadata": {},
   "source": [
    "## 12. t_stat_work_answer --> 学生作业提交记录表"
   ]
  },
  {
   "cell_type": "code",
   "execution_count": 71,
   "id": "8a5b500f",
   "metadata": {},
   "outputs": [
    {
     "name": "stdout",
     "output_type": "stream",
     "text": [
      "(5519, 17)\n",
      "(5519, 6)\n"
     ]
    },
    {
     "data": {
      "text/html": [
       "<div>\n",
       "<style scoped>\n",
       "    .dataframe tbody tr th:only-of-type {\n",
       "        vertical-align: middle;\n",
       "    }\n",
       "\n",
       "    .dataframe tbody tr th {\n",
       "        vertical-align: top;\n",
       "    }\n",
       "\n",
       "    .dataframe thead th {\n",
       "        text-align: right;\n",
       "    }\n",
       "</style>\n",
       "<table border=\"1\" class=\"dataframe\">\n",
       "  <thead>\n",
       "    <tr style=\"text-align: right;\">\n",
       "      <th></th>\n",
       "      <th>日期</th>\n",
       "      <th>活动类型</th>\n",
       "      <th>用户id</th>\n",
       "      <th>课程id</th>\n",
       "      <th>活动id</th>\n",
       "      <th>成绩</th>\n",
       "    </tr>\n",
       "  </thead>\n",
       "  <tbody>\n",
       "    <tr>\n",
       "      <th>0</th>\n",
       "      <td>2022-03-22 23:06</td>\n",
       "      <td>完成作业</td>\n",
       "      <td>51465331</td>\n",
       "      <td>223018597</td>\n",
       "      <td>52245548afa948c0b83e8c644ff39dd3</td>\n",
       "      <td>95.0</td>\n",
       "    </tr>\n",
       "    <tr>\n",
       "      <th>1</th>\n",
       "      <td>2022-03-21 10:33</td>\n",
       "      <td>完成作业</td>\n",
       "      <td>111943347</td>\n",
       "      <td>223018597</td>\n",
       "      <td>52245548afa948c0b83e8c644ff39dd3</td>\n",
       "      <td>100.0</td>\n",
       "    </tr>\n",
       "    <tr>\n",
       "      <th>2</th>\n",
       "      <td>2022-03-20 19:31</td>\n",
       "      <td>完成作业</td>\n",
       "      <td>111944914</td>\n",
       "      <td>223018597</td>\n",
       "      <td>52245548afa948c0b83e8c644ff39dd3</td>\n",
       "      <td>65.0</td>\n",
       "    </tr>\n",
       "    <tr>\n",
       "      <th>3</th>\n",
       "      <td>2022-03-21 09:26</td>\n",
       "      <td>完成作业</td>\n",
       "      <td>111945078</td>\n",
       "      <td>223018597</td>\n",
       "      <td>52245548afa948c0b83e8c644ff39dd3</td>\n",
       "      <td>85.0</td>\n",
       "    </tr>\n",
       "    <tr>\n",
       "      <th>4</th>\n",
       "      <td>2022-03-20 15:13</td>\n",
       "      <td>完成作业</td>\n",
       "      <td>111945359</td>\n",
       "      <td>223018597</td>\n",
       "      <td>52245548afa948c0b83e8c644ff39dd3</td>\n",
       "      <td>95.0</td>\n",
       "    </tr>\n",
       "  </tbody>\n",
       "</table>\n",
       "</div>"
      ],
      "text/plain": [
       "                 日期  活动类型       用户id       课程id  \\\n",
       "0  2022-03-22 23:06  完成作业   51465331  223018597   \n",
       "1  2022-03-21 10:33  完成作业  111943347  223018597   \n",
       "2  2022-03-20 19:31  完成作业  111944914  223018597   \n",
       "3  2022-03-21 09:26  完成作业  111945078  223018597   \n",
       "4  2022-03-20 15:13  完成作业  111945359  223018597   \n",
       "\n",
       "                               活动id     成绩  \n",
       "0  52245548afa948c0b83e8c644ff39dd3   95.0  \n",
       "1  52245548afa948c0b83e8c644ff39dd3  100.0  \n",
       "2  52245548afa948c0b83e8c644ff39dd3   65.0  \n",
       "3  52245548afa948c0b83e8c644ff39dd3   85.0  \n",
       "4  52245548afa948c0b83e8c644ff39dd3   95.0  "
      ]
     },
     "execution_count": 71,
     "metadata": {},
     "output_type": "execute_result"
    }
   ],
   "source": [
    "df_wa = getdf(path, 't_stat_work_answer.xls')\n",
    "data_wa = getdata(df_wa, ['answer_time', 'personid', 'courseid', 'work_id', 'status', 'score'], ['日期', '用户id', '课程id', '活动id', '状态', '成绩'])\n",
    "data_wa = dropdata_(data_wa, '用户id', perids)\n",
    "data_wa = dropdata_(data_wa, '状态', [0, 1])\n",
    "data_wa.pop('状态')\n",
    "data_wa.insert(1, '活动类型', '完成作业')\n",
    "data_wa.head()"
   ]
  },
  {
   "cell_type": "markdown",
   "id": "fd843632",
   "metadata": {},
   "source": [
    "#### 保存数据"
   ]
  },
  {
   "cell_type": "code",
   "execution_count": 566,
   "id": "4a15656c",
   "metadata": {},
   "outputs": [],
   "source": [
    "data_wa.to_csv('E:/比赛/data/7.学生课程作业成绩表_1.csv', index = False, encoding = 'utf_8_sig')"
   ]
  }
 ],
 "metadata": {
  "kernelspec": {
   "display_name": "Python [conda env:pytorch] *",
   "language": "python",
   "name": "conda-env-pytorch-py"
  },
  "language_info": {
   "codemirror_mode": {
    "name": "ipython",
    "version": 3
   },
   "file_extension": ".py",
   "mimetype": "text/x-python",
   "name": "python",
   "nbconvert_exporter": "python",
   "pygments_lexer": "ipython3",
   "version": "3.8.15"
  }
 },
 "nbformat": 4,
 "nbformat_minor": 5
}
